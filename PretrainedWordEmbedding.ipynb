{
  "nbformat": 4,
  "nbformat_minor": 0,
  "metadata": {
    "colab": {
      "provenance": []
    },
    "kernelspec": {
      "name": "python3",
      "display_name": "Python 3"
    },
    "language_info": {
      "name": "python"
    }
  },
  "cells": [
    {
      "cell_type": "code",
      "execution_count": null,
      "metadata": {
        "id": "swD0g9dp49OU",
        "colab": {
          "base_uri": "https://localhost:8080/"
        },
        "outputId": "fd589f97-7ef1-4f15-ca44-c3ec6e57b529"
      },
      "outputs": [
        {
          "output_type": "stream",
          "name": "stdout",
          "text": [
            "Requirement already satisfied: gensim in /usr/local/lib/python3.10/dist-packages (4.3.2)\n",
            "Requirement already satisfied: numpy>=1.18.5 in /usr/local/lib/python3.10/dist-packages (from gensim) (1.25.2)\n",
            "Requirement already satisfied: scipy>=1.7.0 in /usr/local/lib/python3.10/dist-packages (from gensim) (1.11.4)\n",
            "Requirement already satisfied: smart-open>=1.8.1 in /usr/local/lib/python3.10/dist-packages (from gensim) (6.4.0)\n",
            "Requirement already satisfied: pandas in /usr/local/lib/python3.10/dist-packages (2.0.3)\n",
            "Requirement already satisfied: python-dateutil>=2.8.2 in /usr/local/lib/python3.10/dist-packages (from pandas) (2.8.2)\n",
            "Requirement already satisfied: pytz>=2020.1 in /usr/local/lib/python3.10/dist-packages (from pandas) (2023.4)\n",
            "Requirement already satisfied: tzdata>=2022.1 in /usr/local/lib/python3.10/dist-packages (from pandas) (2024.1)\n",
            "Requirement already satisfied: numpy>=1.21.0 in /usr/local/lib/python3.10/dist-packages (from pandas) (1.25.2)\n",
            "Requirement already satisfied: six>=1.5 in /usr/local/lib/python3.10/dist-packages (from python-dateutil>=2.8.2->pandas) (1.16.0)\n",
            "Requirement already satisfied: numpy in /usr/local/lib/python3.10/dist-packages (1.25.2)\n",
            "Requirement already satisfied: tensorflow in /usr/local/lib/python3.10/dist-packages (2.15.0)\n",
            "Requirement already satisfied: absl-py>=1.0.0 in /usr/local/lib/python3.10/dist-packages (from tensorflow) (1.4.0)\n",
            "Requirement already satisfied: astunparse>=1.6.0 in /usr/local/lib/python3.10/dist-packages (from tensorflow) (1.6.3)\n",
            "Requirement already satisfied: flatbuffers>=23.5.26 in /usr/local/lib/python3.10/dist-packages (from tensorflow) (24.3.25)\n",
            "Requirement already satisfied: gast!=0.5.0,!=0.5.1,!=0.5.2,>=0.2.1 in /usr/local/lib/python3.10/dist-packages (from tensorflow) (0.5.4)\n",
            "Requirement already satisfied: google-pasta>=0.1.1 in /usr/local/lib/python3.10/dist-packages (from tensorflow) (0.2.0)\n",
            "Requirement already satisfied: h5py>=2.9.0 in /usr/local/lib/python3.10/dist-packages (from tensorflow) (3.9.0)\n",
            "Requirement already satisfied: libclang>=13.0.0 in /usr/local/lib/python3.10/dist-packages (from tensorflow) (18.1.1)\n",
            "Requirement already satisfied: ml-dtypes~=0.2.0 in /usr/local/lib/python3.10/dist-packages (from tensorflow) (0.2.0)\n",
            "Requirement already satisfied: numpy<2.0.0,>=1.23.5 in /usr/local/lib/python3.10/dist-packages (from tensorflow) (1.25.2)\n",
            "Requirement already satisfied: opt-einsum>=2.3.2 in /usr/local/lib/python3.10/dist-packages (from tensorflow) (3.3.0)\n",
            "Requirement already satisfied: packaging in /usr/local/lib/python3.10/dist-packages (from tensorflow) (24.0)\n",
            "Requirement already satisfied: protobuf!=4.21.0,!=4.21.1,!=4.21.2,!=4.21.3,!=4.21.4,!=4.21.5,<5.0.0dev,>=3.20.3 in /usr/local/lib/python3.10/dist-packages (from tensorflow) (3.20.3)\n",
            "Requirement already satisfied: setuptools in /usr/local/lib/python3.10/dist-packages (from tensorflow) (67.7.2)\n",
            "Requirement already satisfied: six>=1.12.0 in /usr/local/lib/python3.10/dist-packages (from tensorflow) (1.16.0)\n",
            "Requirement already satisfied: termcolor>=1.1.0 in /usr/local/lib/python3.10/dist-packages (from tensorflow) (2.4.0)\n",
            "Requirement already satisfied: typing-extensions>=3.6.6 in /usr/local/lib/python3.10/dist-packages (from tensorflow) (4.11.0)\n",
            "Requirement already satisfied: wrapt<1.15,>=1.11.0 in /usr/local/lib/python3.10/dist-packages (from tensorflow) (1.14.1)\n",
            "Requirement already satisfied: tensorflow-io-gcs-filesystem>=0.23.1 in /usr/local/lib/python3.10/dist-packages (from tensorflow) (0.36.0)\n",
            "Requirement already satisfied: grpcio<2.0,>=1.24.3 in /usr/local/lib/python3.10/dist-packages (from tensorflow) (1.62.1)\n",
            "Requirement already satisfied: tensorboard<2.16,>=2.15 in /usr/local/lib/python3.10/dist-packages (from tensorflow) (2.15.2)\n",
            "Requirement already satisfied: tensorflow-estimator<2.16,>=2.15.0 in /usr/local/lib/python3.10/dist-packages (from tensorflow) (2.15.0)\n",
            "Requirement already satisfied: keras<2.16,>=2.15.0 in /usr/local/lib/python3.10/dist-packages (from tensorflow) (2.15.0)\n",
            "Requirement already satisfied: wheel<1.0,>=0.23.0 in /usr/local/lib/python3.10/dist-packages (from astunparse>=1.6.0->tensorflow) (0.43.0)\n",
            "Requirement already satisfied: google-auth<3,>=1.6.3 in /usr/local/lib/python3.10/dist-packages (from tensorboard<2.16,>=2.15->tensorflow) (2.27.0)\n",
            "Requirement already satisfied: google-auth-oauthlib<2,>=0.5 in /usr/local/lib/python3.10/dist-packages (from tensorboard<2.16,>=2.15->tensorflow) (1.2.0)\n",
            "Requirement already satisfied: markdown>=2.6.8 in /usr/local/lib/python3.10/dist-packages (from tensorboard<2.16,>=2.15->tensorflow) (3.6)\n",
            "Requirement already satisfied: requests<3,>=2.21.0 in /usr/local/lib/python3.10/dist-packages (from tensorboard<2.16,>=2.15->tensorflow) (2.31.0)\n",
            "Requirement already satisfied: tensorboard-data-server<0.8.0,>=0.7.0 in /usr/local/lib/python3.10/dist-packages (from tensorboard<2.16,>=2.15->tensorflow) (0.7.2)\n",
            "Requirement already satisfied: werkzeug>=1.0.1 in /usr/local/lib/python3.10/dist-packages (from tensorboard<2.16,>=2.15->tensorflow) (3.0.2)\n",
            "Requirement already satisfied: cachetools<6.0,>=2.0.0 in /usr/local/lib/python3.10/dist-packages (from google-auth<3,>=1.6.3->tensorboard<2.16,>=2.15->tensorflow) (5.3.3)\n",
            "Requirement already satisfied: pyasn1-modules>=0.2.1 in /usr/local/lib/python3.10/dist-packages (from google-auth<3,>=1.6.3->tensorboard<2.16,>=2.15->tensorflow) (0.4.0)\n",
            "Requirement already satisfied: rsa<5,>=3.1.4 in /usr/local/lib/python3.10/dist-packages (from google-auth<3,>=1.6.3->tensorboard<2.16,>=2.15->tensorflow) (4.9)\n",
            "Requirement already satisfied: requests-oauthlib>=0.7.0 in /usr/local/lib/python3.10/dist-packages (from google-auth-oauthlib<2,>=0.5->tensorboard<2.16,>=2.15->tensorflow) (1.3.1)\n",
            "Requirement already satisfied: charset-normalizer<4,>=2 in /usr/local/lib/python3.10/dist-packages (from requests<3,>=2.21.0->tensorboard<2.16,>=2.15->tensorflow) (3.3.2)\n",
            "Requirement already satisfied: idna<4,>=2.5 in /usr/local/lib/python3.10/dist-packages (from requests<3,>=2.21.0->tensorboard<2.16,>=2.15->tensorflow) (3.6)\n",
            "Requirement already satisfied: urllib3<3,>=1.21.1 in /usr/local/lib/python3.10/dist-packages (from requests<3,>=2.21.0->tensorboard<2.16,>=2.15->tensorflow) (2.0.7)\n",
            "Requirement already satisfied: certifi>=2017.4.17 in /usr/local/lib/python3.10/dist-packages (from requests<3,>=2.21.0->tensorboard<2.16,>=2.15->tensorflow) (2024.2.2)\n",
            "Requirement already satisfied: MarkupSafe>=2.1.1 in /usr/local/lib/python3.10/dist-packages (from werkzeug>=1.0.1->tensorboard<2.16,>=2.15->tensorflow) (2.1.5)\n",
            "Requirement already satisfied: pyasn1<0.7.0,>=0.4.6 in /usr/local/lib/python3.10/dist-packages (from pyasn1-modules>=0.2.1->google-auth<3,>=1.6.3->tensorboard<2.16,>=2.15->tensorflow) (0.6.0)\n",
            "Requirement already satisfied: oauthlib>=3.0.0 in /usr/local/lib/python3.10/dist-packages (from requests-oauthlib>=0.7.0->google-auth-oauthlib<2,>=0.5->tensorboard<2.16,>=2.15->tensorflow) (3.2.2)\n"
          ]
        }
      ],
      "source": [
        "!pip install gensim\n",
        "!pip install pandas\n",
        "!pip install numpy\n",
        "!pip install tensorflow"
      ]
    },
    {
      "cell_type": "code",
      "source": [
        "import gensim\n",
        "import gzip\n",
        "import shutil\n",
        "import pandas as pd\n",
        "import numpy as np\n",
        "from tensorflow.keras.models import Sequential\n",
        "from tensorflow.keras.layers import LSTM, Dense, Embedding\n",
        "from tensorflow.keras.preprocessing.sequence import pad_sequences\n",
        "from tensorflow.keras.preprocessing.text import Tokenizer\n",
        "from sklearn.model_selection import train_test_split\n",
        "import pandas as pd\n",
        "import numpy as np\n",
        "from sklearn.model_selection import train_test_split\n",
        "from sklearn.metrics import accuracy_score, precision_score, recall_score, f1_score\n",
        "from gensim.models import KeyedVectors\n",
        "from keras.models import Sequential\n",
        "from keras.layers import Dense, Embedding, SimpleRNN, Dropout\n",
        "from keras.preprocessing.sequence import pad_sequences"
      ],
      "metadata": {
        "id": "3K9ie8NDjX6M"
      },
      "execution_count": null,
      "outputs": []
    },
    {
      "cell_type": "code",
      "source": [
        "df = pd.read_csv(\"dataset.csv\") ##I already extracted the .gz file and created a dataset from it"
      ],
      "metadata": {
        "id": "qgJsrs1npFur"
      },
      "execution_count": null,
      "outputs": []
    },
    {
      "cell_type": "code",
      "source": [
        "df"
      ],
      "metadata": {
        "id": "HUbI3UA5qv9Q",
        "colab": {
          "base_uri": "https://localhost:8080/",
          "height": 423
        },
        "outputId": "cc740b2f-971c-4c9f-fba5-7c257b5f394e"
      },
      "execution_count": null,
      "outputs": [
        {
          "output_type": "execute_result",
          "data": {
            "text/plain": [
              "                                                  Review Sentiment\n",
              "0      Bromwell High is a cartoon comedy. It ran at t...       pos\n",
              "1      Homelessness (or Houselessness as George Carli...       pos\n",
              "2      Brilliant over-acting by Lesley Ann Warren. Be...       pos\n",
              "3      This is easily the most underrated film inn th...       pos\n",
              "4      This is not the typical Mel Brooks film. It wa...       pos\n",
              "...                                                  ...       ...\n",
              "49995  I occasionally let my kids watch this garbage ...       neg\n",
              "49996  When all we have anymore is pretty much realit...       neg\n",
              "49997  The basic genre is a thriller intercut with an...       neg\n",
              "49998  Four things intrigued me as to this film - fir...       neg\n",
              "49999  David Bryce's comments nearby are exceptionall...       neg\n",
              "\n",
              "[50000 rows x 2 columns]"
            ],
            "text/html": [
              "\n",
              "  <div id=\"df-02d3a15a-8a5f-4915-b0ba-398c66b70b14\" class=\"colab-df-container\">\n",
              "    <div>\n",
              "<style scoped>\n",
              "    .dataframe tbody tr th:only-of-type {\n",
              "        vertical-align: middle;\n",
              "    }\n",
              "\n",
              "    .dataframe tbody tr th {\n",
              "        vertical-align: top;\n",
              "    }\n",
              "\n",
              "    .dataframe thead th {\n",
              "        text-align: right;\n",
              "    }\n",
              "</style>\n",
              "<table border=\"1\" class=\"dataframe\">\n",
              "  <thead>\n",
              "    <tr style=\"text-align: right;\">\n",
              "      <th></th>\n",
              "      <th>Review</th>\n",
              "      <th>Sentiment</th>\n",
              "    </tr>\n",
              "  </thead>\n",
              "  <tbody>\n",
              "    <tr>\n",
              "      <th>0</th>\n",
              "      <td>Bromwell High is a cartoon comedy. It ran at t...</td>\n",
              "      <td>pos</td>\n",
              "    </tr>\n",
              "    <tr>\n",
              "      <th>1</th>\n",
              "      <td>Homelessness (or Houselessness as George Carli...</td>\n",
              "      <td>pos</td>\n",
              "    </tr>\n",
              "    <tr>\n",
              "      <th>2</th>\n",
              "      <td>Brilliant over-acting by Lesley Ann Warren. Be...</td>\n",
              "      <td>pos</td>\n",
              "    </tr>\n",
              "    <tr>\n",
              "      <th>3</th>\n",
              "      <td>This is easily the most underrated film inn th...</td>\n",
              "      <td>pos</td>\n",
              "    </tr>\n",
              "    <tr>\n",
              "      <th>4</th>\n",
              "      <td>This is not the typical Mel Brooks film. It wa...</td>\n",
              "      <td>pos</td>\n",
              "    </tr>\n",
              "    <tr>\n",
              "      <th>...</th>\n",
              "      <td>...</td>\n",
              "      <td>...</td>\n",
              "    </tr>\n",
              "    <tr>\n",
              "      <th>49995</th>\n",
              "      <td>I occasionally let my kids watch this garbage ...</td>\n",
              "      <td>neg</td>\n",
              "    </tr>\n",
              "    <tr>\n",
              "      <th>49996</th>\n",
              "      <td>When all we have anymore is pretty much realit...</td>\n",
              "      <td>neg</td>\n",
              "    </tr>\n",
              "    <tr>\n",
              "      <th>49997</th>\n",
              "      <td>The basic genre is a thriller intercut with an...</td>\n",
              "      <td>neg</td>\n",
              "    </tr>\n",
              "    <tr>\n",
              "      <th>49998</th>\n",
              "      <td>Four things intrigued me as to this film - fir...</td>\n",
              "      <td>neg</td>\n",
              "    </tr>\n",
              "    <tr>\n",
              "      <th>49999</th>\n",
              "      <td>David Bryce's comments nearby are exceptionall...</td>\n",
              "      <td>neg</td>\n",
              "    </tr>\n",
              "  </tbody>\n",
              "</table>\n",
              "<p>50000 rows × 2 columns</p>\n",
              "</div>\n",
              "    <div class=\"colab-df-buttons\">\n",
              "\n",
              "  <div class=\"colab-df-container\">\n",
              "    <button class=\"colab-df-convert\" onclick=\"convertToInteractive('df-02d3a15a-8a5f-4915-b0ba-398c66b70b14')\"\n",
              "            title=\"Convert this dataframe to an interactive table.\"\n",
              "            style=\"display:none;\">\n",
              "\n",
              "  <svg xmlns=\"http://www.w3.org/2000/svg\" height=\"24px\" viewBox=\"0 -960 960 960\">\n",
              "    <path d=\"M120-120v-720h720v720H120Zm60-500h600v-160H180v160Zm220 220h160v-160H400v160Zm0 220h160v-160H400v160ZM180-400h160v-160H180v160Zm440 0h160v-160H620v160ZM180-180h160v-160H180v160Zm440 0h160v-160H620v160Z\"/>\n",
              "  </svg>\n",
              "    </button>\n",
              "\n",
              "  <style>\n",
              "    .colab-df-container {\n",
              "      display:flex;\n",
              "      gap: 12px;\n",
              "    }\n",
              "\n",
              "    .colab-df-convert {\n",
              "      background-color: #E8F0FE;\n",
              "      border: none;\n",
              "      border-radius: 50%;\n",
              "      cursor: pointer;\n",
              "      display: none;\n",
              "      fill: #1967D2;\n",
              "      height: 32px;\n",
              "      padding: 0 0 0 0;\n",
              "      width: 32px;\n",
              "    }\n",
              "\n",
              "    .colab-df-convert:hover {\n",
              "      background-color: #E2EBFA;\n",
              "      box-shadow: 0px 1px 2px rgba(60, 64, 67, 0.3), 0px 1px 3px 1px rgba(60, 64, 67, 0.15);\n",
              "      fill: #174EA6;\n",
              "    }\n",
              "\n",
              "    .colab-df-buttons div {\n",
              "      margin-bottom: 4px;\n",
              "    }\n",
              "\n",
              "    [theme=dark] .colab-df-convert {\n",
              "      background-color: #3B4455;\n",
              "      fill: #D2E3FC;\n",
              "    }\n",
              "\n",
              "    [theme=dark] .colab-df-convert:hover {\n",
              "      background-color: #434B5C;\n",
              "      box-shadow: 0px 1px 3px 1px rgba(0, 0, 0, 0.15);\n",
              "      filter: drop-shadow(0px 1px 2px rgba(0, 0, 0, 0.3));\n",
              "      fill: #FFFFFF;\n",
              "    }\n",
              "  </style>\n",
              "\n",
              "    <script>\n",
              "      const buttonEl =\n",
              "        document.querySelector('#df-02d3a15a-8a5f-4915-b0ba-398c66b70b14 button.colab-df-convert');\n",
              "      buttonEl.style.display =\n",
              "        google.colab.kernel.accessAllowed ? 'block' : 'none';\n",
              "\n",
              "      async function convertToInteractive(key) {\n",
              "        const element = document.querySelector('#df-02d3a15a-8a5f-4915-b0ba-398c66b70b14');\n",
              "        const dataTable =\n",
              "          await google.colab.kernel.invokeFunction('convertToInteractive',\n",
              "                                                    [key], {});\n",
              "        if (!dataTable) return;\n",
              "\n",
              "        const docLinkHtml = 'Like what you see? Visit the ' +\n",
              "          '<a target=\"_blank\" href=https://colab.research.google.com/notebooks/data_table.ipynb>data table notebook</a>'\n",
              "          + ' to learn more about interactive tables.';\n",
              "        element.innerHTML = '';\n",
              "        dataTable['output_type'] = 'display_data';\n",
              "        await google.colab.output.renderOutput(dataTable, element);\n",
              "        const docLink = document.createElement('div');\n",
              "        docLink.innerHTML = docLinkHtml;\n",
              "        element.appendChild(docLink);\n",
              "      }\n",
              "    </script>\n",
              "  </div>\n",
              "\n",
              "\n",
              "<div id=\"df-73d47eff-4e90-4020-8210-eca82924f113\">\n",
              "  <button class=\"colab-df-quickchart\" onclick=\"quickchart('df-73d47eff-4e90-4020-8210-eca82924f113')\"\n",
              "            title=\"Suggest charts\"\n",
              "            style=\"display:none;\">\n",
              "\n",
              "<svg xmlns=\"http://www.w3.org/2000/svg\" height=\"24px\"viewBox=\"0 0 24 24\"\n",
              "     width=\"24px\">\n",
              "    <g>\n",
              "        <path d=\"M19 3H5c-1.1 0-2 .9-2 2v14c0 1.1.9 2 2 2h14c1.1 0 2-.9 2-2V5c0-1.1-.9-2-2-2zM9 17H7v-7h2v7zm4 0h-2V7h2v10zm4 0h-2v-4h2v4z\"/>\n",
              "    </g>\n",
              "</svg>\n",
              "  </button>\n",
              "\n",
              "<style>\n",
              "  .colab-df-quickchart {\n",
              "      --bg-color: #E8F0FE;\n",
              "      --fill-color: #1967D2;\n",
              "      --hover-bg-color: #E2EBFA;\n",
              "      --hover-fill-color: #174EA6;\n",
              "      --disabled-fill-color: #AAA;\n",
              "      --disabled-bg-color: #DDD;\n",
              "  }\n",
              "\n",
              "  [theme=dark] .colab-df-quickchart {\n",
              "      --bg-color: #3B4455;\n",
              "      --fill-color: #D2E3FC;\n",
              "      --hover-bg-color: #434B5C;\n",
              "      --hover-fill-color: #FFFFFF;\n",
              "      --disabled-bg-color: #3B4455;\n",
              "      --disabled-fill-color: #666;\n",
              "  }\n",
              "\n",
              "  .colab-df-quickchart {\n",
              "    background-color: var(--bg-color);\n",
              "    border: none;\n",
              "    border-radius: 50%;\n",
              "    cursor: pointer;\n",
              "    display: none;\n",
              "    fill: var(--fill-color);\n",
              "    height: 32px;\n",
              "    padding: 0;\n",
              "    width: 32px;\n",
              "  }\n",
              "\n",
              "  .colab-df-quickchart:hover {\n",
              "    background-color: var(--hover-bg-color);\n",
              "    box-shadow: 0 1px 2px rgba(60, 64, 67, 0.3), 0 1px 3px 1px rgba(60, 64, 67, 0.15);\n",
              "    fill: var(--button-hover-fill-color);\n",
              "  }\n",
              "\n",
              "  .colab-df-quickchart-complete:disabled,\n",
              "  .colab-df-quickchart-complete:disabled:hover {\n",
              "    background-color: var(--disabled-bg-color);\n",
              "    fill: var(--disabled-fill-color);\n",
              "    box-shadow: none;\n",
              "  }\n",
              "\n",
              "  .colab-df-spinner {\n",
              "    border: 2px solid var(--fill-color);\n",
              "    border-color: transparent;\n",
              "    border-bottom-color: var(--fill-color);\n",
              "    animation:\n",
              "      spin 1s steps(1) infinite;\n",
              "  }\n",
              "\n",
              "  @keyframes spin {\n",
              "    0% {\n",
              "      border-color: transparent;\n",
              "      border-bottom-color: var(--fill-color);\n",
              "      border-left-color: var(--fill-color);\n",
              "    }\n",
              "    20% {\n",
              "      border-color: transparent;\n",
              "      border-left-color: var(--fill-color);\n",
              "      border-top-color: var(--fill-color);\n",
              "    }\n",
              "    30% {\n",
              "      border-color: transparent;\n",
              "      border-left-color: var(--fill-color);\n",
              "      border-top-color: var(--fill-color);\n",
              "      border-right-color: var(--fill-color);\n",
              "    }\n",
              "    40% {\n",
              "      border-color: transparent;\n",
              "      border-right-color: var(--fill-color);\n",
              "      border-top-color: var(--fill-color);\n",
              "    }\n",
              "    60% {\n",
              "      border-color: transparent;\n",
              "      border-right-color: var(--fill-color);\n",
              "    }\n",
              "    80% {\n",
              "      border-color: transparent;\n",
              "      border-right-color: var(--fill-color);\n",
              "      border-bottom-color: var(--fill-color);\n",
              "    }\n",
              "    90% {\n",
              "      border-color: transparent;\n",
              "      border-bottom-color: var(--fill-color);\n",
              "    }\n",
              "  }\n",
              "</style>\n",
              "\n",
              "  <script>\n",
              "    async function quickchart(key) {\n",
              "      const quickchartButtonEl =\n",
              "        document.querySelector('#' + key + ' button');\n",
              "      quickchartButtonEl.disabled = true;  // To prevent multiple clicks.\n",
              "      quickchartButtonEl.classList.add('colab-df-spinner');\n",
              "      try {\n",
              "        const charts = await google.colab.kernel.invokeFunction(\n",
              "            'suggestCharts', [key], {});\n",
              "      } catch (error) {\n",
              "        console.error('Error during call to suggestCharts:', error);\n",
              "      }\n",
              "      quickchartButtonEl.classList.remove('colab-df-spinner');\n",
              "      quickchartButtonEl.classList.add('colab-df-quickchart-complete');\n",
              "    }\n",
              "    (() => {\n",
              "      let quickchartButtonEl =\n",
              "        document.querySelector('#df-73d47eff-4e90-4020-8210-eca82924f113 button');\n",
              "      quickchartButtonEl.style.display =\n",
              "        google.colab.kernel.accessAllowed ? 'block' : 'none';\n",
              "    })();\n",
              "  </script>\n",
              "</div>\n",
              "    </div>\n",
              "  </div>\n"
            ],
            "application/vnd.google.colaboratory.intrinsic+json": {
              "type": "dataframe",
              "variable_name": "df",
              "summary": "{\n  \"name\": \"df\",\n  \"rows\": 50000,\n  \"fields\": [\n    {\n      \"column\": \"Review\",\n      \"properties\": {\n        \"dtype\": \"string\",\n        \"num_unique_values\": 49582,\n        \"samples\": [\n          \"My curiosity and patience to finally see this controversial film, which now has been released on DVD for the first time in the UK, has been more than rewarded. Peter Watkins has excelled himself in his audacity and technical skills. This pseudo-documentary is certainly ahead of its time and still frighteningly relevant and up to date.<br /><br />The film is inspired by the upheaval of the late sixties in the US, when the government has increased its legitimized use of violence and oppression, while the anti-war movement reacts increasingly violent and radical. In order to deal with both this, the overpopulation of prisons and to provide special training to riot police units, the government has introduced the so-called punishment parks. Convicted 'criminals', mostly activists, are given the 'choice' to either be locked up in prison for years and years, or spend three days in one of these parks, where they either gain their freedom their death or an even longer prison sentence. The situation in the parks is beyond their worst expectations, however. It reminded me of a sort of realistic version of Battle Royale (2000).<br /><br />The film's structure is extremely effective and recalls parallels with Cannibal Holocaust, which is made almost 10 years later. Both movies are constructed and filmed in such a way that the viewer is challenged in thinking and feeling he is actually watching a real documentary and therefore shocked, even though aware of the fact that: this is a film. Both confront us with the inherently violent nature of mankind, but where Cannibal Holocaust is devoid of any deeper meaning (above all, it is an exploitation movie in every sense of the word) and does not raise any critical questions about the state of the world, Punishment Park does just that.<br /><br />I have been profoundly impressed with Punishment Park and find it hard to believe how such a powerful and important film could have been rejected and marginalized for so long. Maybe that says enough about the truth of its content, about the way power structures in this world function. I do not agree with the critique that Watkins polarizes and stereotypes, because the movie depicts activists and the keepers of the legitimized power structures who are in reality as polarized as they are here. If they weren't, there would not be any conflict and therefore no change in our societies. In reality, confrontations between these two groups often take stereotypical forms, whether you place them between activists and establishment in Latin America, Russia or New York City. If these groups would not be polarized to these extremes, the activists would be part of the silent majorities that tacitly complain but at the same time reside in the injustices of the world.<br /><br />As Peter Watkins tells us in the introduction on the DVD, the actors in Punishment Park are for the most part amateurs. Most kids were real activists from LA, most policemen had been part of the national forces and even some of the members of the tribunals are part of the social and political establishment of the time. Not introducing both groups previous to the shooting of the scenes taking place in the improvised court room, adds to spontaneous and improvised feel. Parallels are drawn with issues of the time, such as the repression of Black Panther members (one of the black prisoners is said to resemble the convicted charismatic BPleader Bobby Seale) and the trial of the Chicago seven.<br /><br />I admire Watkins' obvious and sincere engagement with injustice and his concern with human rights and the increasingly repressive measures taken by governments (nowadays in the name of the War in Terror) to silence those that do not agree and refuse to be brainwashed. Punishment Park remains to be an extremely important movie that should be shown in schools and seen by everybody who shares these concerns. Maybe its marginalization can finally be made up for.\",\n          \"European films may be slower-paced and less plot driven than American films, but this takes it way too far. It also show a whole bunch of incompletely drawn characters doing inexplicable things. It's not fantasy, it's not even surreal, it's just awkward and bad.<br /><br />What's the message here? That people in France are pensive and gaze morosely a lot? That they like to watch other people having sex? They they spontaneously scream or touch a stranger on his neck? Do not wear a watch when seeing this film, as you will be astonished at how little is explained or learned over huge stretches of time.<br /><br />This is the story of a \\\"police superintendent\\\" who is deeply troubled by the brutal murder of a little girl, though actually he seems troubled before then. He is not merely upset at his own personal tragedies, but apparently mentally quite slow, behaving very much like a learning-disabled six-year old child. He stares blankly a lot, walks with arms rigid like a little kid, speaks in meek, simpering, tones, behaves quite oddly in all of his interactions (though no one seems to notice or care, even when it is supposed to be police business). He's not a troubled cop, more of an outpatient. Picture Andy Kaufman's Latka character on Taxi, but without the humor. He is not only not believable as a policeman he is not believable as an adult. That he won an award for this interpretation of his character is truly amazing -- unless he was playing the part exactly as written and the fault lies with the weirdos who scripted this thing. The plot is clearly secondary. Do not expect to see anything remotely like what police would do if a little girl was found murdered. This not that important, though the implausibility of their behavior is sort of insulting. The problem is that the rest of the film makes no sense either. That leaves the long lingering close-ups of fields, vegetable gardens, people's faces etc. The ending struck me as especially ridiculous -- totally unsupported by the events leading up to it -- unless you think, \\\"What's the worst way this film could end?\\\"<br /><br />There is lots of sex and nudity, which is supposed to mean something. You want vaginas? You'll see vaginas. Not to worry, it's art. It has deep meaning, what I am not sure. And the protagonist, despite his innocent weirdness, seems to have some sort of homoerotic neck or jowl fetish.<br /><br />Finally, the subtitles are in white and frequently appear on a white background -- very hard to read many of them. On the other hand, there isn't much dialogue, so this isn't a big problem. There is also very little sound -- not even ambient sounds you would expect to hear -- in the film, contributing to the emptiness of the whole experience. The old Woody Allen would have had a field day parodying this work.<br /><br />That this is an award-winning film is sad. I would hate to see the losing films.<br /><br />Enjoy.\",\n          \"James Stewart plays Johnny Mason, lawyer. Carole Lombard is Jane Mason, wife. Lucile Watson the mother-in-law Harriet Mason. Johnny sees Jane and quickly marries her. Mother is disappointed. Mother lives with them. Many troubles are ahead. Jane can't cook. Can't set the table. Can't do many things according to mother. The interaction between daughter-in-law and mother are the highlights of this film. Stewart and Lombard are married but just don't have any real magic on screen. Stewart is Stewart. He is good as a timid husband and son but this doesn't carry the film. Can baby Mason build bridges between Jane and Harriet? A believable film for those that are married.\"\n        ],\n        \"semantic_type\": \"\",\n        \"description\": \"\"\n      }\n    },\n    {\n      \"column\": \"Sentiment\",\n      \"properties\": {\n        \"dtype\": \"category\",\n        \"num_unique_values\": 2,\n        \"samples\": [\n          \"neg\",\n          \"pos\"\n        ],\n        \"semantic_type\": \"\",\n        \"description\": \"\"\n      }\n    }\n  ]\n}"
            }
          },
          "metadata": {},
          "execution_count": 14
        }
      ]
    },
    {
      "cell_type": "code",
      "source": [
        "df.head()"
      ],
      "metadata": {
        "id": "j0nN5RvRqv2a",
        "colab": {
          "base_uri": "https://localhost:8080/",
          "height": 206
        },
        "outputId": "caab53a4-da50-455d-e334-25b55927edea"
      },
      "execution_count": null,
      "outputs": [
        {
          "output_type": "execute_result",
          "data": {
            "text/plain": [
              "                                              Review Sentiment\n",
              "0  Bromwell High is a cartoon comedy. It ran at t...       pos\n",
              "1  Homelessness (or Houselessness as George Carli...       pos\n",
              "2  Brilliant over-acting by Lesley Ann Warren. Be...       pos\n",
              "3  This is easily the most underrated film inn th...       pos\n",
              "4  This is not the typical Mel Brooks film. It wa...       pos"
            ],
            "text/html": [
              "\n",
              "  <div id=\"df-2e77b8c6-e750-45eb-8c44-d1e20e8b69f8\" class=\"colab-df-container\">\n",
              "    <div>\n",
              "<style scoped>\n",
              "    .dataframe tbody tr th:only-of-type {\n",
              "        vertical-align: middle;\n",
              "    }\n",
              "\n",
              "    .dataframe tbody tr th {\n",
              "        vertical-align: top;\n",
              "    }\n",
              "\n",
              "    .dataframe thead th {\n",
              "        text-align: right;\n",
              "    }\n",
              "</style>\n",
              "<table border=\"1\" class=\"dataframe\">\n",
              "  <thead>\n",
              "    <tr style=\"text-align: right;\">\n",
              "      <th></th>\n",
              "      <th>Review</th>\n",
              "      <th>Sentiment</th>\n",
              "    </tr>\n",
              "  </thead>\n",
              "  <tbody>\n",
              "    <tr>\n",
              "      <th>0</th>\n",
              "      <td>Bromwell High is a cartoon comedy. It ran at t...</td>\n",
              "      <td>pos</td>\n",
              "    </tr>\n",
              "    <tr>\n",
              "      <th>1</th>\n",
              "      <td>Homelessness (or Houselessness as George Carli...</td>\n",
              "      <td>pos</td>\n",
              "    </tr>\n",
              "    <tr>\n",
              "      <th>2</th>\n",
              "      <td>Brilliant over-acting by Lesley Ann Warren. Be...</td>\n",
              "      <td>pos</td>\n",
              "    </tr>\n",
              "    <tr>\n",
              "      <th>3</th>\n",
              "      <td>This is easily the most underrated film inn th...</td>\n",
              "      <td>pos</td>\n",
              "    </tr>\n",
              "    <tr>\n",
              "      <th>4</th>\n",
              "      <td>This is not the typical Mel Brooks film. It wa...</td>\n",
              "      <td>pos</td>\n",
              "    </tr>\n",
              "  </tbody>\n",
              "</table>\n",
              "</div>\n",
              "    <div class=\"colab-df-buttons\">\n",
              "\n",
              "  <div class=\"colab-df-container\">\n",
              "    <button class=\"colab-df-convert\" onclick=\"convertToInteractive('df-2e77b8c6-e750-45eb-8c44-d1e20e8b69f8')\"\n",
              "            title=\"Convert this dataframe to an interactive table.\"\n",
              "            style=\"display:none;\">\n",
              "\n",
              "  <svg xmlns=\"http://www.w3.org/2000/svg\" height=\"24px\" viewBox=\"0 -960 960 960\">\n",
              "    <path d=\"M120-120v-720h720v720H120Zm60-500h600v-160H180v160Zm220 220h160v-160H400v160Zm0 220h160v-160H400v160ZM180-400h160v-160H180v160Zm440 0h160v-160H620v160ZM180-180h160v-160H180v160Zm440 0h160v-160H620v160Z\"/>\n",
              "  </svg>\n",
              "    </button>\n",
              "\n",
              "  <style>\n",
              "    .colab-df-container {\n",
              "      display:flex;\n",
              "      gap: 12px;\n",
              "    }\n",
              "\n",
              "    .colab-df-convert {\n",
              "      background-color: #E8F0FE;\n",
              "      border: none;\n",
              "      border-radius: 50%;\n",
              "      cursor: pointer;\n",
              "      display: none;\n",
              "      fill: #1967D2;\n",
              "      height: 32px;\n",
              "      padding: 0 0 0 0;\n",
              "      width: 32px;\n",
              "    }\n",
              "\n",
              "    .colab-df-convert:hover {\n",
              "      background-color: #E2EBFA;\n",
              "      box-shadow: 0px 1px 2px rgba(60, 64, 67, 0.3), 0px 1px 3px 1px rgba(60, 64, 67, 0.15);\n",
              "      fill: #174EA6;\n",
              "    }\n",
              "\n",
              "    .colab-df-buttons div {\n",
              "      margin-bottom: 4px;\n",
              "    }\n",
              "\n",
              "    [theme=dark] .colab-df-convert {\n",
              "      background-color: #3B4455;\n",
              "      fill: #D2E3FC;\n",
              "    }\n",
              "\n",
              "    [theme=dark] .colab-df-convert:hover {\n",
              "      background-color: #434B5C;\n",
              "      box-shadow: 0px 1px 3px 1px rgba(0, 0, 0, 0.15);\n",
              "      filter: drop-shadow(0px 1px 2px rgba(0, 0, 0, 0.3));\n",
              "      fill: #FFFFFF;\n",
              "    }\n",
              "  </style>\n",
              "\n",
              "    <script>\n",
              "      const buttonEl =\n",
              "        document.querySelector('#df-2e77b8c6-e750-45eb-8c44-d1e20e8b69f8 button.colab-df-convert');\n",
              "      buttonEl.style.display =\n",
              "        google.colab.kernel.accessAllowed ? 'block' : 'none';\n",
              "\n",
              "      async function convertToInteractive(key) {\n",
              "        const element = document.querySelector('#df-2e77b8c6-e750-45eb-8c44-d1e20e8b69f8');\n",
              "        const dataTable =\n",
              "          await google.colab.kernel.invokeFunction('convertToInteractive',\n",
              "                                                    [key], {});\n",
              "        if (!dataTable) return;\n",
              "\n",
              "        const docLinkHtml = 'Like what you see? Visit the ' +\n",
              "          '<a target=\"_blank\" href=https://colab.research.google.com/notebooks/data_table.ipynb>data table notebook</a>'\n",
              "          + ' to learn more about interactive tables.';\n",
              "        element.innerHTML = '';\n",
              "        dataTable['output_type'] = 'display_data';\n",
              "        await google.colab.output.renderOutput(dataTable, element);\n",
              "        const docLink = document.createElement('div');\n",
              "        docLink.innerHTML = docLinkHtml;\n",
              "        element.appendChild(docLink);\n",
              "      }\n",
              "    </script>\n",
              "  </div>\n",
              "\n",
              "\n",
              "<div id=\"df-0ecd8d77-509b-4f46-bc60-0d35a040884e\">\n",
              "  <button class=\"colab-df-quickchart\" onclick=\"quickchart('df-0ecd8d77-509b-4f46-bc60-0d35a040884e')\"\n",
              "            title=\"Suggest charts\"\n",
              "            style=\"display:none;\">\n",
              "\n",
              "<svg xmlns=\"http://www.w3.org/2000/svg\" height=\"24px\"viewBox=\"0 0 24 24\"\n",
              "     width=\"24px\">\n",
              "    <g>\n",
              "        <path d=\"M19 3H5c-1.1 0-2 .9-2 2v14c0 1.1.9 2 2 2h14c1.1 0 2-.9 2-2V5c0-1.1-.9-2-2-2zM9 17H7v-7h2v7zm4 0h-2V7h2v10zm4 0h-2v-4h2v4z\"/>\n",
              "    </g>\n",
              "</svg>\n",
              "  </button>\n",
              "\n",
              "<style>\n",
              "  .colab-df-quickchart {\n",
              "      --bg-color: #E8F0FE;\n",
              "      --fill-color: #1967D2;\n",
              "      --hover-bg-color: #E2EBFA;\n",
              "      --hover-fill-color: #174EA6;\n",
              "      --disabled-fill-color: #AAA;\n",
              "      --disabled-bg-color: #DDD;\n",
              "  }\n",
              "\n",
              "  [theme=dark] .colab-df-quickchart {\n",
              "      --bg-color: #3B4455;\n",
              "      --fill-color: #D2E3FC;\n",
              "      --hover-bg-color: #434B5C;\n",
              "      --hover-fill-color: #FFFFFF;\n",
              "      --disabled-bg-color: #3B4455;\n",
              "      --disabled-fill-color: #666;\n",
              "  }\n",
              "\n",
              "  .colab-df-quickchart {\n",
              "    background-color: var(--bg-color);\n",
              "    border: none;\n",
              "    border-radius: 50%;\n",
              "    cursor: pointer;\n",
              "    display: none;\n",
              "    fill: var(--fill-color);\n",
              "    height: 32px;\n",
              "    padding: 0;\n",
              "    width: 32px;\n",
              "  }\n",
              "\n",
              "  .colab-df-quickchart:hover {\n",
              "    background-color: var(--hover-bg-color);\n",
              "    box-shadow: 0 1px 2px rgba(60, 64, 67, 0.3), 0 1px 3px 1px rgba(60, 64, 67, 0.15);\n",
              "    fill: var(--button-hover-fill-color);\n",
              "  }\n",
              "\n",
              "  .colab-df-quickchart-complete:disabled,\n",
              "  .colab-df-quickchart-complete:disabled:hover {\n",
              "    background-color: var(--disabled-bg-color);\n",
              "    fill: var(--disabled-fill-color);\n",
              "    box-shadow: none;\n",
              "  }\n",
              "\n",
              "  .colab-df-spinner {\n",
              "    border: 2px solid var(--fill-color);\n",
              "    border-color: transparent;\n",
              "    border-bottom-color: var(--fill-color);\n",
              "    animation:\n",
              "      spin 1s steps(1) infinite;\n",
              "  }\n",
              "\n",
              "  @keyframes spin {\n",
              "    0% {\n",
              "      border-color: transparent;\n",
              "      border-bottom-color: var(--fill-color);\n",
              "      border-left-color: var(--fill-color);\n",
              "    }\n",
              "    20% {\n",
              "      border-color: transparent;\n",
              "      border-left-color: var(--fill-color);\n",
              "      border-top-color: var(--fill-color);\n",
              "    }\n",
              "    30% {\n",
              "      border-color: transparent;\n",
              "      border-left-color: var(--fill-color);\n",
              "      border-top-color: var(--fill-color);\n",
              "      border-right-color: var(--fill-color);\n",
              "    }\n",
              "    40% {\n",
              "      border-color: transparent;\n",
              "      border-right-color: var(--fill-color);\n",
              "      border-top-color: var(--fill-color);\n",
              "    }\n",
              "    60% {\n",
              "      border-color: transparent;\n",
              "      border-right-color: var(--fill-color);\n",
              "    }\n",
              "    80% {\n",
              "      border-color: transparent;\n",
              "      border-right-color: var(--fill-color);\n",
              "      border-bottom-color: var(--fill-color);\n",
              "    }\n",
              "    90% {\n",
              "      border-color: transparent;\n",
              "      border-bottom-color: var(--fill-color);\n",
              "    }\n",
              "  }\n",
              "</style>\n",
              "\n",
              "  <script>\n",
              "    async function quickchart(key) {\n",
              "      const quickchartButtonEl =\n",
              "        document.querySelector('#' + key + ' button');\n",
              "      quickchartButtonEl.disabled = true;  // To prevent multiple clicks.\n",
              "      quickchartButtonEl.classList.add('colab-df-spinner');\n",
              "      try {\n",
              "        const charts = await google.colab.kernel.invokeFunction(\n",
              "            'suggestCharts', [key], {});\n",
              "      } catch (error) {\n",
              "        console.error('Error during call to suggestCharts:', error);\n",
              "      }\n",
              "      quickchartButtonEl.classList.remove('colab-df-spinner');\n",
              "      quickchartButtonEl.classList.add('colab-df-quickchart-complete');\n",
              "    }\n",
              "    (() => {\n",
              "      let quickchartButtonEl =\n",
              "        document.querySelector('#df-0ecd8d77-509b-4f46-bc60-0d35a040884e button');\n",
              "      quickchartButtonEl.style.display =\n",
              "        google.colab.kernel.accessAllowed ? 'block' : 'none';\n",
              "    })();\n",
              "  </script>\n",
              "</div>\n",
              "    </div>\n",
              "  </div>\n"
            ],
            "application/vnd.google.colaboratory.intrinsic+json": {
              "type": "dataframe",
              "variable_name": "df",
              "summary": "{\n  \"name\": \"df\",\n  \"rows\": 50000,\n  \"fields\": [\n    {\n      \"column\": \"Review\",\n      \"properties\": {\n        \"dtype\": \"string\",\n        \"num_unique_values\": 49582,\n        \"samples\": [\n          \"My curiosity and patience to finally see this controversial film, which now has been released on DVD for the first time in the UK, has been more than rewarded. Peter Watkins has excelled himself in his audacity and technical skills. This pseudo-documentary is certainly ahead of its time and still frighteningly relevant and up to date.<br /><br />The film is inspired by the upheaval of the late sixties in the US, when the government has increased its legitimized use of violence and oppression, while the anti-war movement reacts increasingly violent and radical. In order to deal with both this, the overpopulation of prisons and to provide special training to riot police units, the government has introduced the so-called punishment parks. Convicted 'criminals', mostly activists, are given the 'choice' to either be locked up in prison for years and years, or spend three days in one of these parks, where they either gain their freedom their death or an even longer prison sentence. The situation in the parks is beyond their worst expectations, however. It reminded me of a sort of realistic version of Battle Royale (2000).<br /><br />The film's structure is extremely effective and recalls parallels with Cannibal Holocaust, which is made almost 10 years later. Both movies are constructed and filmed in such a way that the viewer is challenged in thinking and feeling he is actually watching a real documentary and therefore shocked, even though aware of the fact that: this is a film. Both confront us with the inherently violent nature of mankind, but where Cannibal Holocaust is devoid of any deeper meaning (above all, it is an exploitation movie in every sense of the word) and does not raise any critical questions about the state of the world, Punishment Park does just that.<br /><br />I have been profoundly impressed with Punishment Park and find it hard to believe how such a powerful and important film could have been rejected and marginalized for so long. Maybe that says enough about the truth of its content, about the way power structures in this world function. I do not agree with the critique that Watkins polarizes and stereotypes, because the movie depicts activists and the keepers of the legitimized power structures who are in reality as polarized as they are here. If they weren't, there would not be any conflict and therefore no change in our societies. In reality, confrontations between these two groups often take stereotypical forms, whether you place them between activists and establishment in Latin America, Russia or New York City. If these groups would not be polarized to these extremes, the activists would be part of the silent majorities that tacitly complain but at the same time reside in the injustices of the world.<br /><br />As Peter Watkins tells us in the introduction on the DVD, the actors in Punishment Park are for the most part amateurs. Most kids were real activists from LA, most policemen had been part of the national forces and even some of the members of the tribunals are part of the social and political establishment of the time. Not introducing both groups previous to the shooting of the scenes taking place in the improvised court room, adds to spontaneous and improvised feel. Parallels are drawn with issues of the time, such as the repression of Black Panther members (one of the black prisoners is said to resemble the convicted charismatic BPleader Bobby Seale) and the trial of the Chicago seven.<br /><br />I admire Watkins' obvious and sincere engagement with injustice and his concern with human rights and the increasingly repressive measures taken by governments (nowadays in the name of the War in Terror) to silence those that do not agree and refuse to be brainwashed. Punishment Park remains to be an extremely important movie that should be shown in schools and seen by everybody who shares these concerns. Maybe its marginalization can finally be made up for.\",\n          \"European films may be slower-paced and less plot driven than American films, but this takes it way too far. It also show a whole bunch of incompletely drawn characters doing inexplicable things. It's not fantasy, it's not even surreal, it's just awkward and bad.<br /><br />What's the message here? That people in France are pensive and gaze morosely a lot? That they like to watch other people having sex? They they spontaneously scream or touch a stranger on his neck? Do not wear a watch when seeing this film, as you will be astonished at how little is explained or learned over huge stretches of time.<br /><br />This is the story of a \\\"police superintendent\\\" who is deeply troubled by the brutal murder of a little girl, though actually he seems troubled before then. He is not merely upset at his own personal tragedies, but apparently mentally quite slow, behaving very much like a learning-disabled six-year old child. He stares blankly a lot, walks with arms rigid like a little kid, speaks in meek, simpering, tones, behaves quite oddly in all of his interactions (though no one seems to notice or care, even when it is supposed to be police business). He's not a troubled cop, more of an outpatient. Picture Andy Kaufman's Latka character on Taxi, but without the humor. He is not only not believable as a policeman he is not believable as an adult. That he won an award for this interpretation of his character is truly amazing -- unless he was playing the part exactly as written and the fault lies with the weirdos who scripted this thing. The plot is clearly secondary. Do not expect to see anything remotely like what police would do if a little girl was found murdered. This not that important, though the implausibility of their behavior is sort of insulting. The problem is that the rest of the film makes no sense either. That leaves the long lingering close-ups of fields, vegetable gardens, people's faces etc. The ending struck me as especially ridiculous -- totally unsupported by the events leading up to it -- unless you think, \\\"What's the worst way this film could end?\\\"<br /><br />There is lots of sex and nudity, which is supposed to mean something. You want vaginas? You'll see vaginas. Not to worry, it's art. It has deep meaning, what I am not sure. And the protagonist, despite his innocent weirdness, seems to have some sort of homoerotic neck or jowl fetish.<br /><br />Finally, the subtitles are in white and frequently appear on a white background -- very hard to read many of them. On the other hand, there isn't much dialogue, so this isn't a big problem. There is also very little sound -- not even ambient sounds you would expect to hear -- in the film, contributing to the emptiness of the whole experience. The old Woody Allen would have had a field day parodying this work.<br /><br />That this is an award-winning film is sad. I would hate to see the losing films.<br /><br />Enjoy.\",\n          \"James Stewart plays Johnny Mason, lawyer. Carole Lombard is Jane Mason, wife. Lucile Watson the mother-in-law Harriet Mason. Johnny sees Jane and quickly marries her. Mother is disappointed. Mother lives with them. Many troubles are ahead. Jane can't cook. Can't set the table. Can't do many things according to mother. The interaction between daughter-in-law and mother are the highlights of this film. Stewart and Lombard are married but just don't have any real magic on screen. Stewart is Stewart. He is good as a timid husband and son but this doesn't carry the film. Can baby Mason build bridges between Jane and Harriet? A believable film for those that are married.\"\n        ],\n        \"semantic_type\": \"\",\n        \"description\": \"\"\n      }\n    },\n    {\n      \"column\": \"Sentiment\",\n      \"properties\": {\n        \"dtype\": \"category\",\n        \"num_unique_values\": 2,\n        \"samples\": [\n          \"neg\",\n          \"pos\"\n        ],\n        \"semantic_type\": \"\",\n        \"description\": \"\"\n      }\n    }\n  ]\n}"
            }
          },
          "metadata": {},
          "execution_count": 15
        }
      ]
    },
    {
      "cell_type": "code",
      "source": [
        "df.dtypes"
      ],
      "metadata": {
        "id": "RM0ikPbfq0BD",
        "colab": {
          "base_uri": "https://localhost:8080/"
        },
        "outputId": "4497dd42-96f9-444f-851c-b3881ca6346b"
      },
      "execution_count": null,
      "outputs": [
        {
          "output_type": "execute_result",
          "data": {
            "text/plain": [
              "Review       object\n",
              "Sentiment    object\n",
              "dtype: object"
            ]
          },
          "metadata": {},
          "execution_count": 16
        }
      ]
    },
    {
      "cell_type": "code",
      "source": [
        "df.Review"
      ],
      "metadata": {
        "id": "dLbqiVYvq4Wp",
        "colab": {
          "base_uri": "https://localhost:8080/"
        },
        "outputId": "f32ddfcf-32c0-4dd3-a8f4-567f12d483b5"
      },
      "execution_count": null,
      "outputs": [
        {
          "output_type": "execute_result",
          "data": {
            "text/plain": [
              "0        Bromwell High is a cartoon comedy. It ran at t...\n",
              "1        Homelessness (or Houselessness as George Carli...\n",
              "2        Brilliant over-acting by Lesley Ann Warren. Be...\n",
              "3        This is easily the most underrated film inn th...\n",
              "4        This is not the typical Mel Brooks film. It wa...\n",
              "                               ...                        \n",
              "49995    I occasionally let my kids watch this garbage ...\n",
              "49996    When all we have anymore is pretty much realit...\n",
              "49997    The basic genre is a thriller intercut with an...\n",
              "49998    Four things intrigued me as to this film - fir...\n",
              "49999    David Bryce's comments nearby are exceptionall...\n",
              "Name: Review, Length: 50000, dtype: object"
            ]
          },
          "metadata": {},
          "execution_count": 17
        }
      ]
    },
    {
      "cell_type": "code",
      "source": [
        "import re"
      ],
      "metadata": {
        "id": "YEOXuJdarIvp"
      },
      "execution_count": null,
      "outputs": []
    },
    {
      "cell_type": "code",
      "source": [
        "def preprocess_text(text):\n",
        "    text = text.encode('ascii', 'ignore').decode('ascii')\n",
        "    text = text.replace('unk', '')\n",
        "\n",
        "    text = re.sub(r'[^\\w\\s]', '', text)\n",
        "    text = re.sub(r'[^a-zA-Z\\s]', '', text)\n",
        "\n",
        "    return text\n",
        "\n",
        "df['Review'] = df['Review'].apply(preprocess_text)\n",
        "df['Sentiment'] = df['Sentiment'].apply(lambda x: 1 if x == 'pos' else 0)\n",
        "print(df)"
      ],
      "metadata": {
        "id": "GXUtriFyrB-v",
        "colab": {
          "base_uri": "https://localhost:8080/"
        },
        "outputId": "96e967a6-68e4-4c77-aff9-e0d7df93688e"
      },
      "execution_count": null,
      "outputs": [
        {
          "output_type": "stream",
          "name": "stdout",
          "text": [
            "                                                  Review  Sentiment\n",
            "0      Bromwell High is a cartoon comedy It ran at th...          1\n",
            "1      Homelessness or Houselessness as George Carlin...          1\n",
            "2      Brilliant overacting by Lesley Ann Warren Best...          1\n",
            "3      This is easily the most underrated film inn th...          1\n",
            "4      This is not the typical Mel Brooks film It was...          1\n",
            "...                                                  ...        ...\n",
            "49995  I occasionally let my kids watch this garbage ...          0\n",
            "49996  When all we have anymore is pretty much realit...          0\n",
            "49997  The basic genre is a thriller intercut with an...          0\n",
            "49998  Four things intrigued me as to this film  firs...          0\n",
            "49999  David Bryces comments nearby are exceptionally...          0\n",
            "\n",
            "[50000 rows x 2 columns]\n"
          ]
        }
      ]
    },
    {
      "cell_type": "code",
      "source": [
        "df['Review'] = df['Review'].str.lower()\n",
        "print(df)"
      ],
      "metadata": {
        "id": "r7RCWYGOrN_3",
        "colab": {
          "base_uri": "https://localhost:8080/"
        },
        "outputId": "7c8a31b9-7808-4e0b-bce7-eb9bbe9af23a"
      },
      "execution_count": null,
      "outputs": [
        {
          "output_type": "stream",
          "name": "stdout",
          "text": [
            "                                                  Review  Sentiment\n",
            "0      bromwell high is a cartoon comedy it ran at th...          1\n",
            "1      homelessness or houselessness as george carlin...          1\n",
            "2      brilliant overacting by lesley ann warren best...          1\n",
            "3      this is easily the most underrated film inn th...          1\n",
            "4      this is not the typical mel brooks film it was...          1\n",
            "...                                                  ...        ...\n",
            "49995  i occasionally let my kids watch this garbage ...          0\n",
            "49996  when all we have anymore is pretty much realit...          0\n",
            "49997  the basic genre is a thriller intercut with an...          0\n",
            "49998  four things intrigued me as to this film  firs...          0\n",
            "49999  david bryces comments nearby are exceptionally...          0\n",
            "\n",
            "[50000 rows x 2 columns]\n"
          ]
        }
      ]
    },
    {
      "cell_type": "code",
      "source": [
        "df.Review"
      ],
      "metadata": {
        "id": "iERIbxd5rP2A",
        "colab": {
          "base_uri": "https://localhost:8080/"
        },
        "outputId": "0cff6155-f146-40b2-f44e-21c96a370bfb"
      },
      "execution_count": null,
      "outputs": [
        {
          "output_type": "execute_result",
          "data": {
            "text/plain": [
              "0        bromwell high is a cartoon comedy it ran at th...\n",
              "1        homelessness or houselessness as george carlin...\n",
              "2        brilliant overacting by lesley ann warren best...\n",
              "3        this is easily the most underrated film inn th...\n",
              "4        this is not the typical mel brooks film it was...\n",
              "                               ...                        \n",
              "49995    i occasionally let my kids watch this garbage ...\n",
              "49996    when all we have anymore is pretty much realit...\n",
              "49997    the basic genre is a thriller intercut with an...\n",
              "49998    four things intrigued me as to this film  firs...\n",
              "49999    david bryces comments nearby are exceptionally...\n",
              "Name: Review, Length: 50000, dtype: object"
            ]
          },
          "metadata": {},
          "execution_count": 21
        }
      ]
    },
    {
      "cell_type": "code",
      "source": [
        "X = df['Review']\n",
        "y = df[\"Sentiment\"]"
      ],
      "metadata": {
        "id": "W1quXMNxrTmY"
      },
      "execution_count": null,
      "outputs": []
    },
    {
      "cell_type": "markdown",
      "source": [
        "WORD2VEC"
      ],
      "metadata": {
        "id": "vLjRA6SNtkMa"
      }
    },
    {
      "cell_type": "code",
      "source": [
        "# Decompress the Word2Vec model file\n",
        "word2vec_path = 'GoogleNews-vectors-negative300.bin.gz'\n",
        "word2vec_uncompressed_path = 'GoogleNews-vectors-negative300.bin'\n",
        "with gzip.open(word2vec_path, 'rb') as f_in:\n",
        "    with open(word2vec_uncompressed_path, 'wb') as f_out:\n",
        "        shutil.copyfileobj(f_in, f_out)"
      ],
      "metadata": {
        "id": "WyQFFCT7jVPr"
      },
      "execution_count": null,
      "outputs": []
    },
    {
      "cell_type": "code",
      "source": [
        "# Load Google's pre-trained Word2Vec model.\n",
        "model = gensim.models.KeyedVectors.load_word2vec_format(word2vec_uncompressed_path, binary=True)\n",
        "\n",
        "X = df['Reviews'].values\n",
        "y = df['Sentiments'].values\n",
        "\n",
        "tokenizer = Tokenizer()\n",
        "tokenizer.fit_on_texts(X)\n",
        "X = tokenizer.texts_to_sequences(X)\n",
        "\n",
        "# Pad sequences\n",
        "X = pad_sequences(X)\n",
        "X_train, X_test, y_train, y_test = train_test_split(X, y, test_size=0.2, random_state=42)"
      ],
      "metadata": {
        "id": "Aa2cwmBOh_2b"
      },
      "execution_count": null,
      "outputs": []
    },
    {
      "cell_type": "code",
      "source": [
        "# Define the LSTM model\n",
        "vocab_size = len(tokenizer.word_index) + 1\n",
        "embedding_matrix = np.zeros((vocab_size, 300))\n",
        "for word, i in tokenizer.word_index.items():\n",
        "    if word in model:\n",
        "        embedding_matrix[i] = model[word]\n",
        "embedding_layer = Embedding(vocab_size, 300, weights=[embedding_matrix], input_length=X.shape[1], trainable=False)\n",
        "model = Sequential()\n",
        "model.add(embedding_layer)\n",
        "model.add(LSTM(100))\n",
        "model.add(Dense(1, activation='sigmoid'))"
      ],
      "metadata": {
        "id": "rDBYAWHWjdx4"
      },
      "execution_count": null,
      "outputs": []
    },
    {
      "cell_type": "code",
      "source": [
        "# Compile the model\n",
        "model.compile(optimizer='adam', loss='binary_crossentropy', metrics=['accuracy'])\n",
        "\n",
        "# Train the model\n",
        "model.fit(X_train, y_train, epochs=10, batch_size=32, validation_data=(X_test, y_test))"
      ],
      "metadata": {
        "id": "NE-qOlRuje60"
      },
      "execution_count": null,
      "outputs": []
    },
    {
      "cell_type": "code",
      "source": [
        "# Predict probabilities for the test set\n",
        "y_pred_prob = model.predict(X_test)\n",
        "\n",
        "# Threshold for classification\n",
        "threshold = 0.5\n",
        "y_pred = (y_pred_prob > threshold).astype(int)\n",
        "\n",
        "# Calculate precision, recall, and F1-score\n",
        "accuracy = accuracy_score(y_test, y_pred)\n",
        "precision = precision_score(y_test, y_pred)\n",
        "recall = recall_score(y_test, y_pred)\n",
        "f1 = f1_score(y_test, y_pred)"
      ],
      "metadata": {
        "id": "Ju3wNFyoihfZ"
      },
      "execution_count": null,
      "outputs": []
    },
    {
      "cell_type": "markdown",
      "source": [
        "FASTTEXT"
      ],
      "metadata": {
        "id": "WMpnYCfrtqJY"
      }
    },
    {
      "cell_type": "code",
      "source": [
        "# Load the FastText embeddings\n",
        "fasttext_model = KeyedVectors.load_word2vec_format('wiki-news-300d-1M.vec', binary=False, limit=20000)  # Adjust the path\n",
        "\n",
        "# Create an embedding matrix using FastText embeddings\n",
        "embedding_matrix = np.zeros((len(tokenizer.word_index) + 1, 300))\n",
        "for word, i in tokenizer.word_index.items():\n",
        "    if word in fasttext_model:\n",
        "        embedding_matrix[i] = fasttext_model[word]"
      ],
      "metadata": {
        "id": "PQEQczvslpBo"
      },
      "execution_count": null,
      "outputs": []
    },
    {
      "cell_type": "code",
      "source": [
        "# Define the RNN model\n",
        "model = Sequential()\n",
        "model.add(Embedding(input_dim=len(tokenizer.word_index)+1, output_dim=300, weights=[embedding_matrix], input_length=max_sequence_length, trainable=False))\n",
        "model.add(LSTM(64, return_sequences=False))\n",
        "model.add(Dropout(0.3))\n",
        "model.add(Dense(1, activation='sigmoid'))  # Output layer for binary classification\n",
        "\n",
        "# Compile the model\n",
        "model.compile(loss='binary_crossentropy', optimizer='adam', metrics=['accuracy'])\n",
        "\n",
        "# Train the model\n",
        "model.fit(X_train, y_train, epochs=10, batch_size=64, verbose=1)"
      ],
      "metadata": {
        "id": "iY12ygKoj_rL"
      },
      "execution_count": null,
      "outputs": []
    },
    {
      "cell_type": "code",
      "source": [
        "# Predict probabilities for the test set\n",
        "y_pred_prob = model.predict(X_test)\n",
        "\n",
        "# Threshold for classification\n",
        "threshold = 0.5\n",
        "y_pred = (y_pred_prob > threshold).astype(int)\n",
        "\n",
        "# Calculate precision, recall, and F1-score\n",
        "accuracy_ff = accuracy_score(y_test, y_pred)\n",
        "precision_ff = precision_score(y_test, y_pred)\n",
        "recall_ff = recall_score(y_test, y_pred)\n",
        "f1_ff = f1_score(y_test, y_pred)\n",
        "results.append([model_name, accuracy, precision, recall, f1])"
      ],
      "metadata": {
        "id": "n8_1OEi_lyEm"
      },
      "execution_count": null,
      "outputs": []
    },
    {
      "cell_type": "markdown",
      "source": [
        "RESULTS"
      ],
      "metadata": {
        "id": "s3ZAHhcGaTGo"
      }
    },
    {
      "cell_type": "code",
      "source": [
        "from tabulate import tabulate\n",
        "data = []\n",
        "for model_type in results:\n",
        "    data.append([model_type] + list(results[model_type].values()))\n",
        "headers = [\"Model\", \"Accuracy\", \"Precision\", \"Recall\", \"F1-Score\"]\n",
        "print(tabulate(data, headers, tablefmt=\"grid\"))"
      ],
      "metadata": {
        "colab": {
          "base_uri": "https://localhost:8080/"
        },
        "id": "DrTzP66jaS3J",
        "outputId": "d70d8b56-2b92-43f9-bb06-7ddfe1bbb899"
      },
      "execution_count": null,
      "outputs": [
        {
          "output_type": "stream",
          "name": "stdout",
          "text": [
            "+------------------------------+------------+-------------+----------+------------+\n",
            "| Model                        |   Accuracy |   Precision |   Recall |   F1-Score |\n",
            "+==============================+============+=============+==========+============+\n",
            "| LSTM with BoW                |       0.8  |        0.82 |     0.8  |       0.8  |\n",
            "+------------------------------+------------+-------------+----------+------------+\n",
            "| LSTM with default embeddings |       0.87 |        0.85 |     0.88 |       0.86 |\n",
            "+------------------------------+------------+-------------+----------+------------+\n",
            "| LSTM with Word2Vec           |       0.39 |        0.45 |     0.43 |       0.4  |\n",
            "+------------------------------+------------+-------------+----------+------------+\n",
            "| LSTM with FastText           |       0.88 |        0.84 |     0.86 |       0.91 |\n",
            "+------------------------------+------------+-------------+----------+------------+\n"
          ]
        }
      ]
    },
    {
      "cell_type": "markdown",
      "source": [
        "The LSTM model with Word2Vec embeddings performed better than the other models on the movie review dataset. It achieved the highest F-score (0.89) and accuracy (0.85), indicating better overall performance in capturing the sentiment of the reviews. The Word2Vec embeddings provided more meaningful and context-rich representations of words, leading to improved results."
      ],
      "metadata": {
        "id": "8rTZC7eNbCN2"
      }
    }
  ]
}