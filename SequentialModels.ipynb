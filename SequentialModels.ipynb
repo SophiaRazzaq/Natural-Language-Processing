{
  "nbformat": 4,
  "nbformat_minor": 0,
  "metadata": {
    "colab": {
      "provenance": []
    },
    "kernelspec": {
      "name": "python3",
      "display_name": "Python 3"
    },
    "language_info": {
      "name": "python"
    }
  },
  "cells": [
    {
      "cell_type": "code",
      "source": [
        "from sklearn.feature_extraction.text import CountVectorizer\n",
        "from sklearn.model_selection import train_test_split\n",
        "import torch\n",
        "import torch.nn as nn\n",
        "import torch.optim as optim\n",
        "from sklearn.feature_extraction.text import CountVectorizer\n",
        "from sklearn.metrics import accuracy_score, precision_score, recall_score, f1_score\n",
        "from sklearn.model_selection import train_test_split\n",
        "from tabulate import tabulate\n",
        "import torch\n",
        "import torch.nn as nn\n",
        "import numpy as np\n",
        "import pandas as pd\n",
        "import numpy as np\n",
        "from sklearn.model_selection import train_test_split\n",
        "from sklearn.feature_extraction.text import CountVectorizer\n",
        "import torch\n",
        "import torch.nn as nn\n",
        "import torch.optim as optim\n",
        "from torch.utils.data import DataLoader, TensorDataset\n",
        "from tabulate import tabulate"
      ],
      "metadata": {
        "id": "_lSeGwIsrq1H"
      },
      "execution_count": null,
      "outputs": []
    },
    {
      "cell_type": "code",
      "source": [
        "df = pd.read_csv(\"dataset.csv\") ##I already extracted the .gz file and created a dataset from it"
      ],
      "metadata": {
        "id": "qgJsrs1npFur"
      },
      "execution_count": null,
      "outputs": []
    },
    {
      "cell_type": "code",
      "source": [
        "df"
      ],
      "metadata": {
        "id": "HUbI3UA5qv9Q",
        "colab": {
          "base_uri": "https://localhost:8080/",
          "height": 423
        },
        "outputId": "bc415824-7f12-4130-d41f-3b2895995590"
      },
      "execution_count": null,
      "outputs": [
        {
          "output_type": "execute_result",
          "data": {
            "text/plain": [
              "                                                  Review Sentiment\n",
              "0      Bromwell High is a cartoon comedy. It ran at t...       pos\n",
              "1      Homelessness (or Houselessness as George Carli...       pos\n",
              "2      Brilliant over-acting by Lesley Ann Warren. Be...       pos\n",
              "3      This is easily the most underrated film inn th...       pos\n",
              "4      This is not the typical Mel Brooks film. It wa...       pos\n",
              "...                                                  ...       ...\n",
              "49995  I occasionally let my kids watch this garbage ...       neg\n",
              "49996  When all we have anymore is pretty much realit...       neg\n",
              "49997  The basic genre is a thriller intercut with an...       neg\n",
              "49998  Four things intrigued me as to this film - fir...       neg\n",
              "49999  David Bryce's comments nearby are exceptionall...       neg\n",
              "\n",
              "[50000 rows x 2 columns]"
            ],
            "text/html": [
              "\n",
              "  <div id=\"df-8814ceee-2fa0-470b-8c33-8370ae5cf582\" class=\"colab-df-container\">\n",
              "    <div>\n",
              "<style scoped>\n",
              "    .dataframe tbody tr th:only-of-type {\n",
              "        vertical-align: middle;\n",
              "    }\n",
              "\n",
              "    .dataframe tbody tr th {\n",
              "        vertical-align: top;\n",
              "    }\n",
              "\n",
              "    .dataframe thead th {\n",
              "        text-align: right;\n",
              "    }\n",
              "</style>\n",
              "<table border=\"1\" class=\"dataframe\">\n",
              "  <thead>\n",
              "    <tr style=\"text-align: right;\">\n",
              "      <th></th>\n",
              "      <th>Review</th>\n",
              "      <th>Sentiment</th>\n",
              "    </tr>\n",
              "  </thead>\n",
              "  <tbody>\n",
              "    <tr>\n",
              "      <th>0</th>\n",
              "      <td>Bromwell High is a cartoon comedy. It ran at t...</td>\n",
              "      <td>pos</td>\n",
              "    </tr>\n",
              "    <tr>\n",
              "      <th>1</th>\n",
              "      <td>Homelessness (or Houselessness as George Carli...</td>\n",
              "      <td>pos</td>\n",
              "    </tr>\n",
              "    <tr>\n",
              "      <th>2</th>\n",
              "      <td>Brilliant over-acting by Lesley Ann Warren. Be...</td>\n",
              "      <td>pos</td>\n",
              "    </tr>\n",
              "    <tr>\n",
              "      <th>3</th>\n",
              "      <td>This is easily the most underrated film inn th...</td>\n",
              "      <td>pos</td>\n",
              "    </tr>\n",
              "    <tr>\n",
              "      <th>4</th>\n",
              "      <td>This is not the typical Mel Brooks film. It wa...</td>\n",
              "      <td>pos</td>\n",
              "    </tr>\n",
              "    <tr>\n",
              "      <th>...</th>\n",
              "      <td>...</td>\n",
              "      <td>...</td>\n",
              "    </tr>\n",
              "    <tr>\n",
              "      <th>49995</th>\n",
              "      <td>I occasionally let my kids watch this garbage ...</td>\n",
              "      <td>neg</td>\n",
              "    </tr>\n",
              "    <tr>\n",
              "      <th>49996</th>\n",
              "      <td>When all we have anymore is pretty much realit...</td>\n",
              "      <td>neg</td>\n",
              "    </tr>\n",
              "    <tr>\n",
              "      <th>49997</th>\n",
              "      <td>The basic genre is a thriller intercut with an...</td>\n",
              "      <td>neg</td>\n",
              "    </tr>\n",
              "    <tr>\n",
              "      <th>49998</th>\n",
              "      <td>Four things intrigued me as to this film - fir...</td>\n",
              "      <td>neg</td>\n",
              "    </tr>\n",
              "    <tr>\n",
              "      <th>49999</th>\n",
              "      <td>David Bryce's comments nearby are exceptionall...</td>\n",
              "      <td>neg</td>\n",
              "    </tr>\n",
              "  </tbody>\n",
              "</table>\n",
              "<p>50000 rows × 2 columns</p>\n",
              "</div>\n",
              "    <div class=\"colab-df-buttons\">\n",
              "\n",
              "  <div class=\"colab-df-container\">\n",
              "    <button class=\"colab-df-convert\" onclick=\"convertToInteractive('df-8814ceee-2fa0-470b-8c33-8370ae5cf582')\"\n",
              "            title=\"Convert this dataframe to an interactive table.\"\n",
              "            style=\"display:none;\">\n",
              "\n",
              "  <svg xmlns=\"http://www.w3.org/2000/svg\" height=\"24px\" viewBox=\"0 -960 960 960\">\n",
              "    <path d=\"M120-120v-720h720v720H120Zm60-500h600v-160H180v160Zm220 220h160v-160H400v160Zm0 220h160v-160H400v160ZM180-400h160v-160H180v160Zm440 0h160v-160H620v160ZM180-180h160v-160H180v160Zm440 0h160v-160H620v160Z\"/>\n",
              "  </svg>\n",
              "    </button>\n",
              "\n",
              "  <style>\n",
              "    .colab-df-container {\n",
              "      display:flex;\n",
              "      gap: 12px;\n",
              "    }\n",
              "\n",
              "    .colab-df-convert {\n",
              "      background-color: #E8F0FE;\n",
              "      border: none;\n",
              "      border-radius: 50%;\n",
              "      cursor: pointer;\n",
              "      display: none;\n",
              "      fill: #1967D2;\n",
              "      height: 32px;\n",
              "      padding: 0 0 0 0;\n",
              "      width: 32px;\n",
              "    }\n",
              "\n",
              "    .colab-df-convert:hover {\n",
              "      background-color: #E2EBFA;\n",
              "      box-shadow: 0px 1px 2px rgba(60, 64, 67, 0.3), 0px 1px 3px 1px rgba(60, 64, 67, 0.15);\n",
              "      fill: #174EA6;\n",
              "    }\n",
              "\n",
              "    .colab-df-buttons div {\n",
              "      margin-bottom: 4px;\n",
              "    }\n",
              "\n",
              "    [theme=dark] .colab-df-convert {\n",
              "      background-color: #3B4455;\n",
              "      fill: #D2E3FC;\n",
              "    }\n",
              "\n",
              "    [theme=dark] .colab-df-convert:hover {\n",
              "      background-color: #434B5C;\n",
              "      box-shadow: 0px 1px 3px 1px rgba(0, 0, 0, 0.15);\n",
              "      filter: drop-shadow(0px 1px 2px rgba(0, 0, 0, 0.3));\n",
              "      fill: #FFFFFF;\n",
              "    }\n",
              "  </style>\n",
              "\n",
              "    <script>\n",
              "      const buttonEl =\n",
              "        document.querySelector('#df-8814ceee-2fa0-470b-8c33-8370ae5cf582 button.colab-df-convert');\n",
              "      buttonEl.style.display =\n",
              "        google.colab.kernel.accessAllowed ? 'block' : 'none';\n",
              "\n",
              "      async function convertToInteractive(key) {\n",
              "        const element = document.querySelector('#df-8814ceee-2fa0-470b-8c33-8370ae5cf582');\n",
              "        const dataTable =\n",
              "          await google.colab.kernel.invokeFunction('convertToInteractive',\n",
              "                                                    [key], {});\n",
              "        if (!dataTable) return;\n",
              "\n",
              "        const docLinkHtml = 'Like what you see? Visit the ' +\n",
              "          '<a target=\"_blank\" href=https://colab.research.google.com/notebooks/data_table.ipynb>data table notebook</a>'\n",
              "          + ' to learn more about interactive tables.';\n",
              "        element.innerHTML = '';\n",
              "        dataTable['output_type'] = 'display_data';\n",
              "        await google.colab.output.renderOutput(dataTable, element);\n",
              "        const docLink = document.createElement('div');\n",
              "        docLink.innerHTML = docLinkHtml;\n",
              "        element.appendChild(docLink);\n",
              "      }\n",
              "    </script>\n",
              "  </div>\n",
              "\n",
              "\n",
              "<div id=\"df-f66f48f1-bd0e-4631-b693-37afcc9039e2\">\n",
              "  <button class=\"colab-df-quickchart\" onclick=\"quickchart('df-f66f48f1-bd0e-4631-b693-37afcc9039e2')\"\n",
              "            title=\"Suggest charts\"\n",
              "            style=\"display:none;\">\n",
              "\n",
              "<svg xmlns=\"http://www.w3.org/2000/svg\" height=\"24px\"viewBox=\"0 0 24 24\"\n",
              "     width=\"24px\">\n",
              "    <g>\n",
              "        <path d=\"M19 3H5c-1.1 0-2 .9-2 2v14c0 1.1.9 2 2 2h14c1.1 0 2-.9 2-2V5c0-1.1-.9-2-2-2zM9 17H7v-7h2v7zm4 0h-2V7h2v10zm4 0h-2v-4h2v4z\"/>\n",
              "    </g>\n",
              "</svg>\n",
              "  </button>\n",
              "\n",
              "<style>\n",
              "  .colab-df-quickchart {\n",
              "      --bg-color: #E8F0FE;\n",
              "      --fill-color: #1967D2;\n",
              "      --hover-bg-color: #E2EBFA;\n",
              "      --hover-fill-color: #174EA6;\n",
              "      --disabled-fill-color: #AAA;\n",
              "      --disabled-bg-color: #DDD;\n",
              "  }\n",
              "\n",
              "  [theme=dark] .colab-df-quickchart {\n",
              "      --bg-color: #3B4455;\n",
              "      --fill-color: #D2E3FC;\n",
              "      --hover-bg-color: #434B5C;\n",
              "      --hover-fill-color: #FFFFFF;\n",
              "      --disabled-bg-color: #3B4455;\n",
              "      --disabled-fill-color: #666;\n",
              "  }\n",
              "\n",
              "  .colab-df-quickchart {\n",
              "    background-color: var(--bg-color);\n",
              "    border: none;\n",
              "    border-radius: 50%;\n",
              "    cursor: pointer;\n",
              "    display: none;\n",
              "    fill: var(--fill-color);\n",
              "    height: 32px;\n",
              "    padding: 0;\n",
              "    width: 32px;\n",
              "  }\n",
              "\n",
              "  .colab-df-quickchart:hover {\n",
              "    background-color: var(--hover-bg-color);\n",
              "    box-shadow: 0 1px 2px rgba(60, 64, 67, 0.3), 0 1px 3px 1px rgba(60, 64, 67, 0.15);\n",
              "    fill: var(--button-hover-fill-color);\n",
              "  }\n",
              "\n",
              "  .colab-df-quickchart-complete:disabled,\n",
              "  .colab-df-quickchart-complete:disabled:hover {\n",
              "    background-color: var(--disabled-bg-color);\n",
              "    fill: var(--disabled-fill-color);\n",
              "    box-shadow: none;\n",
              "  }\n",
              "\n",
              "  .colab-df-spinner {\n",
              "    border: 2px solid var(--fill-color);\n",
              "    border-color: transparent;\n",
              "    border-bottom-color: var(--fill-color);\n",
              "    animation:\n",
              "      spin 1s steps(1) infinite;\n",
              "  }\n",
              "\n",
              "  @keyframes spin {\n",
              "    0% {\n",
              "      border-color: transparent;\n",
              "      border-bottom-color: var(--fill-color);\n",
              "      border-left-color: var(--fill-color);\n",
              "    }\n",
              "    20% {\n",
              "      border-color: transparent;\n",
              "      border-left-color: var(--fill-color);\n",
              "      border-top-color: var(--fill-color);\n",
              "    }\n",
              "    30% {\n",
              "      border-color: transparent;\n",
              "      border-left-color: var(--fill-color);\n",
              "      border-top-color: var(--fill-color);\n",
              "      border-right-color: var(--fill-color);\n",
              "    }\n",
              "    40% {\n",
              "      border-color: transparent;\n",
              "      border-right-color: var(--fill-color);\n",
              "      border-top-color: var(--fill-color);\n",
              "    }\n",
              "    60% {\n",
              "      border-color: transparent;\n",
              "      border-right-color: var(--fill-color);\n",
              "    }\n",
              "    80% {\n",
              "      border-color: transparent;\n",
              "      border-right-color: var(--fill-color);\n",
              "      border-bottom-color: var(--fill-color);\n",
              "    }\n",
              "    90% {\n",
              "      border-color: transparent;\n",
              "      border-bottom-color: var(--fill-color);\n",
              "    }\n",
              "  }\n",
              "</style>\n",
              "\n",
              "  <script>\n",
              "    async function quickchart(key) {\n",
              "      const quickchartButtonEl =\n",
              "        document.querySelector('#' + key + ' button');\n",
              "      quickchartButtonEl.disabled = true;  // To prevent multiple clicks.\n",
              "      quickchartButtonEl.classList.add('colab-df-spinner');\n",
              "      try {\n",
              "        const charts = await google.colab.kernel.invokeFunction(\n",
              "            'suggestCharts', [key], {});\n",
              "      } catch (error) {\n",
              "        console.error('Error during call to suggestCharts:', error);\n",
              "      }\n",
              "      quickchartButtonEl.classList.remove('colab-df-spinner');\n",
              "      quickchartButtonEl.classList.add('colab-df-quickchart-complete');\n",
              "    }\n",
              "    (() => {\n",
              "      let quickchartButtonEl =\n",
              "        document.querySelector('#df-f66f48f1-bd0e-4631-b693-37afcc9039e2 button');\n",
              "      quickchartButtonEl.style.display =\n",
              "        google.colab.kernel.accessAllowed ? 'block' : 'none';\n",
              "    })();\n",
              "  </script>\n",
              "</div>\n",
              "    </div>\n",
              "  </div>\n"
            ],
            "application/vnd.google.colaboratory.intrinsic+json": {
              "type": "dataframe",
              "variable_name": "df",
              "summary": "{\n  \"name\": \"df\",\n  \"rows\": 50000,\n  \"fields\": [\n    {\n      \"column\": \"Review\",\n      \"properties\": {\n        \"dtype\": \"string\",\n        \"num_unique_values\": 49582,\n        \"samples\": [\n          \"My curiosity and patience to finally see this controversial film, which now has been released on DVD for the first time in the UK, has been more than rewarded. Peter Watkins has excelled himself in his audacity and technical skills. This pseudo-documentary is certainly ahead of its time and still frighteningly relevant and up to date.<br /><br />The film is inspired by the upheaval of the late sixties in the US, when the government has increased its legitimized use of violence and oppression, while the anti-war movement reacts increasingly violent and radical. In order to deal with both this, the overpopulation of prisons and to provide special training to riot police units, the government has introduced the so-called punishment parks. Convicted 'criminals', mostly activists, are given the 'choice' to either be locked up in prison for years and years, or spend three days in one of these parks, where they either gain their freedom their death or an even longer prison sentence. The situation in the parks is beyond their worst expectations, however. It reminded me of a sort of realistic version of Battle Royale (2000).<br /><br />The film's structure is extremely effective and recalls parallels with Cannibal Holocaust, which is made almost 10 years later. Both movies are constructed and filmed in such a way that the viewer is challenged in thinking and feeling he is actually watching a real documentary and therefore shocked, even though aware of the fact that: this is a film. Both confront us with the inherently violent nature of mankind, but where Cannibal Holocaust is devoid of any deeper meaning (above all, it is an exploitation movie in every sense of the word) and does not raise any critical questions about the state of the world, Punishment Park does just that.<br /><br />I have been profoundly impressed with Punishment Park and find it hard to believe how such a powerful and important film could have been rejected and marginalized for so long. Maybe that says enough about the truth of its content, about the way power structures in this world function. I do not agree with the critique that Watkins polarizes and stereotypes, because the movie depicts activists and the keepers of the legitimized power structures who are in reality as polarized as they are here. If they weren't, there would not be any conflict and therefore no change in our societies. In reality, confrontations between these two groups often take stereotypical forms, whether you place them between activists and establishment in Latin America, Russia or New York City. If these groups would not be polarized to these extremes, the activists would be part of the silent majorities that tacitly complain but at the same time reside in the injustices of the world.<br /><br />As Peter Watkins tells us in the introduction on the DVD, the actors in Punishment Park are for the most part amateurs. Most kids were real activists from LA, most policemen had been part of the national forces and even some of the members of the tribunals are part of the social and political establishment of the time. Not introducing both groups previous to the shooting of the scenes taking place in the improvised court room, adds to spontaneous and improvised feel. Parallels are drawn with issues of the time, such as the repression of Black Panther members (one of the black prisoners is said to resemble the convicted charismatic BPleader Bobby Seale) and the trial of the Chicago seven.<br /><br />I admire Watkins' obvious and sincere engagement with injustice and his concern with human rights and the increasingly repressive measures taken by governments (nowadays in the name of the War in Terror) to silence those that do not agree and refuse to be brainwashed. Punishment Park remains to be an extremely important movie that should be shown in schools and seen by everybody who shares these concerns. Maybe its marginalization can finally be made up for.\",\n          \"European films may be slower-paced and less plot driven than American films, but this takes it way too far. It also show a whole bunch of incompletely drawn characters doing inexplicable things. It's not fantasy, it's not even surreal, it's just awkward and bad.<br /><br />What's the message here? That people in France are pensive and gaze morosely a lot? That they like to watch other people having sex? They they spontaneously scream or touch a stranger on his neck? Do not wear a watch when seeing this film, as you will be astonished at how little is explained or learned over huge stretches of time.<br /><br />This is the story of a \\\"police superintendent\\\" who is deeply troubled by the brutal murder of a little girl, though actually he seems troubled before then. He is not merely upset at his own personal tragedies, but apparently mentally quite slow, behaving very much like a learning-disabled six-year old child. He stares blankly a lot, walks with arms rigid like a little kid, speaks in meek, simpering, tones, behaves quite oddly in all of his interactions (though no one seems to notice or care, even when it is supposed to be police business). He's not a troubled cop, more of an outpatient. Picture Andy Kaufman's Latka character on Taxi, but without the humor. He is not only not believable as a policeman he is not believable as an adult. That he won an award for this interpretation of his character is truly amazing -- unless he was playing the part exactly as written and the fault lies with the weirdos who scripted this thing. The plot is clearly secondary. Do not expect to see anything remotely like what police would do if a little girl was found murdered. This not that important, though the implausibility of their behavior is sort of insulting. The problem is that the rest of the film makes no sense either. That leaves the long lingering close-ups of fields, vegetable gardens, people's faces etc. The ending struck me as especially ridiculous -- totally unsupported by the events leading up to it -- unless you think, \\\"What's the worst way this film could end?\\\"<br /><br />There is lots of sex and nudity, which is supposed to mean something. You want vaginas? You'll see vaginas. Not to worry, it's art. It has deep meaning, what I am not sure. And the protagonist, despite his innocent weirdness, seems to have some sort of homoerotic neck or jowl fetish.<br /><br />Finally, the subtitles are in white and frequently appear on a white background -- very hard to read many of them. On the other hand, there isn't much dialogue, so this isn't a big problem. There is also very little sound -- not even ambient sounds you would expect to hear -- in the film, contributing to the emptiness of the whole experience. The old Woody Allen would have had a field day parodying this work.<br /><br />That this is an award-winning film is sad. I would hate to see the losing films.<br /><br />Enjoy.\",\n          \"James Stewart plays Johnny Mason, lawyer. Carole Lombard is Jane Mason, wife. Lucile Watson the mother-in-law Harriet Mason. Johnny sees Jane and quickly marries her. Mother is disappointed. Mother lives with them. Many troubles are ahead. Jane can't cook. Can't set the table. Can't do many things according to mother. The interaction between daughter-in-law and mother are the highlights of this film. Stewart and Lombard are married but just don't have any real magic on screen. Stewart is Stewart. He is good as a timid husband and son but this doesn't carry the film. Can baby Mason build bridges between Jane and Harriet? A believable film for those that are married.\"\n        ],\n        \"semantic_type\": \"\",\n        \"description\": \"\"\n      }\n    },\n    {\n      \"column\": \"Sentiment\",\n      \"properties\": {\n        \"dtype\": \"category\",\n        \"num_unique_values\": 2,\n        \"samples\": [\n          \"neg\",\n          \"pos\"\n        ],\n        \"semantic_type\": \"\",\n        \"description\": \"\"\n      }\n    }\n  ]\n}"
            }
          },
          "metadata": {},
          "execution_count": 13
        }
      ]
    },
    {
      "cell_type": "code",
      "source": [
        "df.head()"
      ],
      "metadata": {
        "id": "j0nN5RvRqv2a",
        "colab": {
          "base_uri": "https://localhost:8080/",
          "height": 206
        },
        "outputId": "214e78ca-edd9-4547-e56a-1d02bf761e81"
      },
      "execution_count": null,
      "outputs": [
        {
          "output_type": "execute_result",
          "data": {
            "text/plain": [
              "                                              Review Sentiment\n",
              "0  Bromwell High is a cartoon comedy. It ran at t...       pos\n",
              "1  Homelessness (or Houselessness as George Carli...       pos\n",
              "2  Brilliant over-acting by Lesley Ann Warren. Be...       pos\n",
              "3  This is easily the most underrated film inn th...       pos\n",
              "4  This is not the typical Mel Brooks film. It wa...       pos"
            ],
            "text/html": [
              "\n",
              "  <div id=\"df-121bd923-dc19-4892-9f78-02fd0c5d55a9\" class=\"colab-df-container\">\n",
              "    <div>\n",
              "<style scoped>\n",
              "    .dataframe tbody tr th:only-of-type {\n",
              "        vertical-align: middle;\n",
              "    }\n",
              "\n",
              "    .dataframe tbody tr th {\n",
              "        vertical-align: top;\n",
              "    }\n",
              "\n",
              "    .dataframe thead th {\n",
              "        text-align: right;\n",
              "    }\n",
              "</style>\n",
              "<table border=\"1\" class=\"dataframe\">\n",
              "  <thead>\n",
              "    <tr style=\"text-align: right;\">\n",
              "      <th></th>\n",
              "      <th>Review</th>\n",
              "      <th>Sentiment</th>\n",
              "    </tr>\n",
              "  </thead>\n",
              "  <tbody>\n",
              "    <tr>\n",
              "      <th>0</th>\n",
              "      <td>Bromwell High is a cartoon comedy. It ran at t...</td>\n",
              "      <td>pos</td>\n",
              "    </tr>\n",
              "    <tr>\n",
              "      <th>1</th>\n",
              "      <td>Homelessness (or Houselessness as George Carli...</td>\n",
              "      <td>pos</td>\n",
              "    </tr>\n",
              "    <tr>\n",
              "      <th>2</th>\n",
              "      <td>Brilliant over-acting by Lesley Ann Warren. Be...</td>\n",
              "      <td>pos</td>\n",
              "    </tr>\n",
              "    <tr>\n",
              "      <th>3</th>\n",
              "      <td>This is easily the most underrated film inn th...</td>\n",
              "      <td>pos</td>\n",
              "    </tr>\n",
              "    <tr>\n",
              "      <th>4</th>\n",
              "      <td>This is not the typical Mel Brooks film. It wa...</td>\n",
              "      <td>pos</td>\n",
              "    </tr>\n",
              "  </tbody>\n",
              "</table>\n",
              "</div>\n",
              "    <div class=\"colab-df-buttons\">\n",
              "\n",
              "  <div class=\"colab-df-container\">\n",
              "    <button class=\"colab-df-convert\" onclick=\"convertToInteractive('df-121bd923-dc19-4892-9f78-02fd0c5d55a9')\"\n",
              "            title=\"Convert this dataframe to an interactive table.\"\n",
              "            style=\"display:none;\">\n",
              "\n",
              "  <svg xmlns=\"http://www.w3.org/2000/svg\" height=\"24px\" viewBox=\"0 -960 960 960\">\n",
              "    <path d=\"M120-120v-720h720v720H120Zm60-500h600v-160H180v160Zm220 220h160v-160H400v160Zm0 220h160v-160H400v160ZM180-400h160v-160H180v160Zm440 0h160v-160H620v160ZM180-180h160v-160H180v160Zm440 0h160v-160H620v160Z\"/>\n",
              "  </svg>\n",
              "    </button>\n",
              "\n",
              "  <style>\n",
              "    .colab-df-container {\n",
              "      display:flex;\n",
              "      gap: 12px;\n",
              "    }\n",
              "\n",
              "    .colab-df-convert {\n",
              "      background-color: #E8F0FE;\n",
              "      border: none;\n",
              "      border-radius: 50%;\n",
              "      cursor: pointer;\n",
              "      display: none;\n",
              "      fill: #1967D2;\n",
              "      height: 32px;\n",
              "      padding: 0 0 0 0;\n",
              "      width: 32px;\n",
              "    }\n",
              "\n",
              "    .colab-df-convert:hover {\n",
              "      background-color: #E2EBFA;\n",
              "      box-shadow: 0px 1px 2px rgba(60, 64, 67, 0.3), 0px 1px 3px 1px rgba(60, 64, 67, 0.15);\n",
              "      fill: #174EA6;\n",
              "    }\n",
              "\n",
              "    .colab-df-buttons div {\n",
              "      margin-bottom: 4px;\n",
              "    }\n",
              "\n",
              "    [theme=dark] .colab-df-convert {\n",
              "      background-color: #3B4455;\n",
              "      fill: #D2E3FC;\n",
              "    }\n",
              "\n",
              "    [theme=dark] .colab-df-convert:hover {\n",
              "      background-color: #434B5C;\n",
              "      box-shadow: 0px 1px 3px 1px rgba(0, 0, 0, 0.15);\n",
              "      filter: drop-shadow(0px 1px 2px rgba(0, 0, 0, 0.3));\n",
              "      fill: #FFFFFF;\n",
              "    }\n",
              "  </style>\n",
              "\n",
              "    <script>\n",
              "      const buttonEl =\n",
              "        document.querySelector('#df-121bd923-dc19-4892-9f78-02fd0c5d55a9 button.colab-df-convert');\n",
              "      buttonEl.style.display =\n",
              "        google.colab.kernel.accessAllowed ? 'block' : 'none';\n",
              "\n",
              "      async function convertToInteractive(key) {\n",
              "        const element = document.querySelector('#df-121bd923-dc19-4892-9f78-02fd0c5d55a9');\n",
              "        const dataTable =\n",
              "          await google.colab.kernel.invokeFunction('convertToInteractive',\n",
              "                                                    [key], {});\n",
              "        if (!dataTable) return;\n",
              "\n",
              "        const docLinkHtml = 'Like what you see? Visit the ' +\n",
              "          '<a target=\"_blank\" href=https://colab.research.google.com/notebooks/data_table.ipynb>data table notebook</a>'\n",
              "          + ' to learn more about interactive tables.';\n",
              "        element.innerHTML = '';\n",
              "        dataTable['output_type'] = 'display_data';\n",
              "        await google.colab.output.renderOutput(dataTable, element);\n",
              "        const docLink = document.createElement('div');\n",
              "        docLink.innerHTML = docLinkHtml;\n",
              "        element.appendChild(docLink);\n",
              "      }\n",
              "    </script>\n",
              "  </div>\n",
              "\n",
              "\n",
              "<div id=\"df-801aa415-9c4c-461d-bffe-78ee84211094\">\n",
              "  <button class=\"colab-df-quickchart\" onclick=\"quickchart('df-801aa415-9c4c-461d-bffe-78ee84211094')\"\n",
              "            title=\"Suggest charts\"\n",
              "            style=\"display:none;\">\n",
              "\n",
              "<svg xmlns=\"http://www.w3.org/2000/svg\" height=\"24px\"viewBox=\"0 0 24 24\"\n",
              "     width=\"24px\">\n",
              "    <g>\n",
              "        <path d=\"M19 3H5c-1.1 0-2 .9-2 2v14c0 1.1.9 2 2 2h14c1.1 0 2-.9 2-2V5c0-1.1-.9-2-2-2zM9 17H7v-7h2v7zm4 0h-2V7h2v10zm4 0h-2v-4h2v4z\"/>\n",
              "    </g>\n",
              "</svg>\n",
              "  </button>\n",
              "\n",
              "<style>\n",
              "  .colab-df-quickchart {\n",
              "      --bg-color: #E8F0FE;\n",
              "      --fill-color: #1967D2;\n",
              "      --hover-bg-color: #E2EBFA;\n",
              "      --hover-fill-color: #174EA6;\n",
              "      --disabled-fill-color: #AAA;\n",
              "      --disabled-bg-color: #DDD;\n",
              "  }\n",
              "\n",
              "  [theme=dark] .colab-df-quickchart {\n",
              "      --bg-color: #3B4455;\n",
              "      --fill-color: #D2E3FC;\n",
              "      --hover-bg-color: #434B5C;\n",
              "      --hover-fill-color: #FFFFFF;\n",
              "      --disabled-bg-color: #3B4455;\n",
              "      --disabled-fill-color: #666;\n",
              "  }\n",
              "\n",
              "  .colab-df-quickchart {\n",
              "    background-color: var(--bg-color);\n",
              "    border: none;\n",
              "    border-radius: 50%;\n",
              "    cursor: pointer;\n",
              "    display: none;\n",
              "    fill: var(--fill-color);\n",
              "    height: 32px;\n",
              "    padding: 0;\n",
              "    width: 32px;\n",
              "  }\n",
              "\n",
              "  .colab-df-quickchart:hover {\n",
              "    background-color: var(--hover-bg-color);\n",
              "    box-shadow: 0 1px 2px rgba(60, 64, 67, 0.3), 0 1px 3px 1px rgba(60, 64, 67, 0.15);\n",
              "    fill: var(--button-hover-fill-color);\n",
              "  }\n",
              "\n",
              "  .colab-df-quickchart-complete:disabled,\n",
              "  .colab-df-quickchart-complete:disabled:hover {\n",
              "    background-color: var(--disabled-bg-color);\n",
              "    fill: var(--disabled-fill-color);\n",
              "    box-shadow: none;\n",
              "  }\n",
              "\n",
              "  .colab-df-spinner {\n",
              "    border: 2px solid var(--fill-color);\n",
              "    border-color: transparent;\n",
              "    border-bottom-color: var(--fill-color);\n",
              "    animation:\n",
              "      spin 1s steps(1) infinite;\n",
              "  }\n",
              "\n",
              "  @keyframes spin {\n",
              "    0% {\n",
              "      border-color: transparent;\n",
              "      border-bottom-color: var(--fill-color);\n",
              "      border-left-color: var(--fill-color);\n",
              "    }\n",
              "    20% {\n",
              "      border-color: transparent;\n",
              "      border-left-color: var(--fill-color);\n",
              "      border-top-color: var(--fill-color);\n",
              "    }\n",
              "    30% {\n",
              "      border-color: transparent;\n",
              "      border-left-color: var(--fill-color);\n",
              "      border-top-color: var(--fill-color);\n",
              "      border-right-color: var(--fill-color);\n",
              "    }\n",
              "    40% {\n",
              "      border-color: transparent;\n",
              "      border-right-color: var(--fill-color);\n",
              "      border-top-color: var(--fill-color);\n",
              "    }\n",
              "    60% {\n",
              "      border-color: transparent;\n",
              "      border-right-color: var(--fill-color);\n",
              "    }\n",
              "    80% {\n",
              "      border-color: transparent;\n",
              "      border-right-color: var(--fill-color);\n",
              "      border-bottom-color: var(--fill-color);\n",
              "    }\n",
              "    90% {\n",
              "      border-color: transparent;\n",
              "      border-bottom-color: var(--fill-color);\n",
              "    }\n",
              "  }\n",
              "</style>\n",
              "\n",
              "  <script>\n",
              "    async function quickchart(key) {\n",
              "      const quickchartButtonEl =\n",
              "        document.querySelector('#' + key + ' button');\n",
              "      quickchartButtonEl.disabled = true;  // To prevent multiple clicks.\n",
              "      quickchartButtonEl.classList.add('colab-df-spinner');\n",
              "      try {\n",
              "        const charts = await google.colab.kernel.invokeFunction(\n",
              "            'suggestCharts', [key], {});\n",
              "      } catch (error) {\n",
              "        console.error('Error during call to suggestCharts:', error);\n",
              "      }\n",
              "      quickchartButtonEl.classList.remove('colab-df-spinner');\n",
              "      quickchartButtonEl.classList.add('colab-df-quickchart-complete');\n",
              "    }\n",
              "    (() => {\n",
              "      let quickchartButtonEl =\n",
              "        document.querySelector('#df-801aa415-9c4c-461d-bffe-78ee84211094 button');\n",
              "      quickchartButtonEl.style.display =\n",
              "        google.colab.kernel.accessAllowed ? 'block' : 'none';\n",
              "    })();\n",
              "  </script>\n",
              "</div>\n",
              "    </div>\n",
              "  </div>\n"
            ],
            "application/vnd.google.colaboratory.intrinsic+json": {
              "type": "dataframe",
              "variable_name": "df",
              "summary": "{\n  \"name\": \"df\",\n  \"rows\": 50000,\n  \"fields\": [\n    {\n      \"column\": \"Review\",\n      \"properties\": {\n        \"dtype\": \"string\",\n        \"num_unique_values\": 49582,\n        \"samples\": [\n          \"My curiosity and patience to finally see this controversial film, which now has been released on DVD for the first time in the UK, has been more than rewarded. Peter Watkins has excelled himself in his audacity and technical skills. This pseudo-documentary is certainly ahead of its time and still frighteningly relevant and up to date.<br /><br />The film is inspired by the upheaval of the late sixties in the US, when the government has increased its legitimized use of violence and oppression, while the anti-war movement reacts increasingly violent and radical. In order to deal with both this, the overpopulation of prisons and to provide special training to riot police units, the government has introduced the so-called punishment parks. Convicted 'criminals', mostly activists, are given the 'choice' to either be locked up in prison for years and years, or spend three days in one of these parks, where they either gain their freedom their death or an even longer prison sentence. The situation in the parks is beyond their worst expectations, however. It reminded me of a sort of realistic version of Battle Royale (2000).<br /><br />The film's structure is extremely effective and recalls parallels with Cannibal Holocaust, which is made almost 10 years later. Both movies are constructed and filmed in such a way that the viewer is challenged in thinking and feeling he is actually watching a real documentary and therefore shocked, even though aware of the fact that: this is a film. Both confront us with the inherently violent nature of mankind, but where Cannibal Holocaust is devoid of any deeper meaning (above all, it is an exploitation movie in every sense of the word) and does not raise any critical questions about the state of the world, Punishment Park does just that.<br /><br />I have been profoundly impressed with Punishment Park and find it hard to believe how such a powerful and important film could have been rejected and marginalized for so long. Maybe that says enough about the truth of its content, about the way power structures in this world function. I do not agree with the critique that Watkins polarizes and stereotypes, because the movie depicts activists and the keepers of the legitimized power structures who are in reality as polarized as they are here. If they weren't, there would not be any conflict and therefore no change in our societies. In reality, confrontations between these two groups often take stereotypical forms, whether you place them between activists and establishment in Latin America, Russia or New York City. If these groups would not be polarized to these extremes, the activists would be part of the silent majorities that tacitly complain but at the same time reside in the injustices of the world.<br /><br />As Peter Watkins tells us in the introduction on the DVD, the actors in Punishment Park are for the most part amateurs. Most kids were real activists from LA, most policemen had been part of the national forces and even some of the members of the tribunals are part of the social and political establishment of the time. Not introducing both groups previous to the shooting of the scenes taking place in the improvised court room, adds to spontaneous and improvised feel. Parallels are drawn with issues of the time, such as the repression of Black Panther members (one of the black prisoners is said to resemble the convicted charismatic BPleader Bobby Seale) and the trial of the Chicago seven.<br /><br />I admire Watkins' obvious and sincere engagement with injustice and his concern with human rights and the increasingly repressive measures taken by governments (nowadays in the name of the War in Terror) to silence those that do not agree and refuse to be brainwashed. Punishment Park remains to be an extremely important movie that should be shown in schools and seen by everybody who shares these concerns. Maybe its marginalization can finally be made up for.\",\n          \"European films may be slower-paced and less plot driven than American films, but this takes it way too far. It also show a whole bunch of incompletely drawn characters doing inexplicable things. It's not fantasy, it's not even surreal, it's just awkward and bad.<br /><br />What's the message here? That people in France are pensive and gaze morosely a lot? That they like to watch other people having sex? They they spontaneously scream or touch a stranger on his neck? Do not wear a watch when seeing this film, as you will be astonished at how little is explained or learned over huge stretches of time.<br /><br />This is the story of a \\\"police superintendent\\\" who is deeply troubled by the brutal murder of a little girl, though actually he seems troubled before then. He is not merely upset at his own personal tragedies, but apparently mentally quite slow, behaving very much like a learning-disabled six-year old child. He stares blankly a lot, walks with arms rigid like a little kid, speaks in meek, simpering, tones, behaves quite oddly in all of his interactions (though no one seems to notice or care, even when it is supposed to be police business). He's not a troubled cop, more of an outpatient. Picture Andy Kaufman's Latka character on Taxi, but without the humor. He is not only not believable as a policeman he is not believable as an adult. That he won an award for this interpretation of his character is truly amazing -- unless he was playing the part exactly as written and the fault lies with the weirdos who scripted this thing. The plot is clearly secondary. Do not expect to see anything remotely like what police would do if a little girl was found murdered. This not that important, though the implausibility of their behavior is sort of insulting. The problem is that the rest of the film makes no sense either. That leaves the long lingering close-ups of fields, vegetable gardens, people's faces etc. The ending struck me as especially ridiculous -- totally unsupported by the events leading up to it -- unless you think, \\\"What's the worst way this film could end?\\\"<br /><br />There is lots of sex and nudity, which is supposed to mean something. You want vaginas? You'll see vaginas. Not to worry, it's art. It has deep meaning, what I am not sure. And the protagonist, despite his innocent weirdness, seems to have some sort of homoerotic neck or jowl fetish.<br /><br />Finally, the subtitles are in white and frequently appear on a white background -- very hard to read many of them. On the other hand, there isn't much dialogue, so this isn't a big problem. There is also very little sound -- not even ambient sounds you would expect to hear -- in the film, contributing to the emptiness of the whole experience. The old Woody Allen would have had a field day parodying this work.<br /><br />That this is an award-winning film is sad. I would hate to see the losing films.<br /><br />Enjoy.\",\n          \"James Stewart plays Johnny Mason, lawyer. Carole Lombard is Jane Mason, wife. Lucile Watson the mother-in-law Harriet Mason. Johnny sees Jane and quickly marries her. Mother is disappointed. Mother lives with them. Many troubles are ahead. Jane can't cook. Can't set the table. Can't do many things according to mother. The interaction between daughter-in-law and mother are the highlights of this film. Stewart and Lombard are married but just don't have any real magic on screen. Stewart is Stewart. He is good as a timid husband and son but this doesn't carry the film. Can baby Mason build bridges between Jane and Harriet? A believable film for those that are married.\"\n        ],\n        \"semantic_type\": \"\",\n        \"description\": \"\"\n      }\n    },\n    {\n      \"column\": \"Sentiment\",\n      \"properties\": {\n        \"dtype\": \"category\",\n        \"num_unique_values\": 2,\n        \"samples\": [\n          \"neg\",\n          \"pos\"\n        ],\n        \"semantic_type\": \"\",\n        \"description\": \"\"\n      }\n    }\n  ]\n}"
            }
          },
          "metadata": {},
          "execution_count": 14
        }
      ]
    },
    {
      "cell_type": "code",
      "source": [
        "df.dtypes"
      ],
      "metadata": {
        "id": "RM0ikPbfq0BD",
        "colab": {
          "base_uri": "https://localhost:8080/"
        },
        "outputId": "c964fce8-3525-42e9-ca76-662fa400be3f"
      },
      "execution_count": null,
      "outputs": [
        {
          "output_type": "execute_result",
          "data": {
            "text/plain": [
              "Review       object\n",
              "Sentiment    object\n",
              "dtype: object"
            ]
          },
          "metadata": {},
          "execution_count": 15
        }
      ]
    },
    {
      "cell_type": "code",
      "source": [
        "df.Review"
      ],
      "metadata": {
        "id": "dLbqiVYvq4Wp",
        "colab": {
          "base_uri": "https://localhost:8080/"
        },
        "outputId": "588b86ab-7cb2-44ed-aea0-9d8d6ca03e2b"
      },
      "execution_count": null,
      "outputs": [
        {
          "output_type": "execute_result",
          "data": {
            "text/plain": [
              "0        Bromwell High is a cartoon comedy. It ran at t...\n",
              "1        Homelessness (or Houselessness as George Carli...\n",
              "2        Brilliant over-acting by Lesley Ann Warren. Be...\n",
              "3        This is easily the most underrated film inn th...\n",
              "4        This is not the typical Mel Brooks film. It wa...\n",
              "                               ...                        \n",
              "49995    I occasionally let my kids watch this garbage ...\n",
              "49996    When all we have anymore is pretty much realit...\n",
              "49997    The basic genre is a thriller intercut with an...\n",
              "49998    Four things intrigued me as to this film - fir...\n",
              "49999    David Bryce's comments nearby are exceptionall...\n",
              "Name: Review, Length: 50000, dtype: object"
            ]
          },
          "metadata": {},
          "execution_count": 16
        }
      ]
    },
    {
      "cell_type": "code",
      "source": [
        "import re"
      ],
      "metadata": {
        "id": "YEOXuJdarIvp"
      },
      "execution_count": null,
      "outputs": []
    },
    {
      "cell_type": "code",
      "source": [
        "def preprocess_text(text):\n",
        "    text = text.encode('ascii', 'ignore').decode('ascii')\n",
        "    text = text.replace('unk', '')\n",
        "    text = re.sub(r'[^\\w\\s]', '', text)\n",
        "    text = re.sub(r'[^a-zA-Z\\s]', '', text)\n",
        "\n",
        "    return text\n",
        "\n",
        "df['Review'] = df['Review'].apply(preprocess_text)\n",
        "df['Sentiment'] = df['Sentiment'].apply(lambda x: 1 if x == 'pos' else 0)\n",
        "print(df)"
      ],
      "metadata": {
        "id": "GXUtriFyrB-v",
        "colab": {
          "base_uri": "https://localhost:8080/"
        },
        "outputId": "8c83fcc5-2765-47da-b050-958ce2b58e8e"
      },
      "execution_count": null,
      "outputs": [
        {
          "output_type": "stream",
          "name": "stdout",
          "text": [
            "                                                  Review  Sentiment\n",
            "0      Bromwell High is a cartoon comedy It ran at th...          1\n",
            "1      Homelessness or Houselessness as George Carlin...          1\n",
            "2      Brilliant overacting by Lesley Ann Warren Best...          1\n",
            "3      This is easily the most underrated film inn th...          1\n",
            "4      This is not the typical Mel Brooks film It was...          1\n",
            "...                                                  ...        ...\n",
            "49995  I occasionally let my kids watch this garbage ...          0\n",
            "49996  When all we have anymore is pretty much realit...          0\n",
            "49997  The basic genre is a thriller intercut with an...          0\n",
            "49998  Four things intrigued me as to this film  firs...          0\n",
            "49999  David Bryces comments nearby are exceptionally...          0\n",
            "\n",
            "[50000 rows x 2 columns]\n"
          ]
        }
      ]
    },
    {
      "cell_type": "code",
      "source": [
        "df['Review'] = df['Review'].str.lower()\n",
        "print(df)"
      ],
      "metadata": {
        "id": "r7RCWYGOrN_3",
        "colab": {
          "base_uri": "https://localhost:8080/"
        },
        "outputId": "0c4fbaa0-7023-4290-98f8-aa275c10ae7c"
      },
      "execution_count": null,
      "outputs": [
        {
          "output_type": "stream",
          "name": "stdout",
          "text": [
            "                                                  Review  Sentiment\n",
            "0      bromwell high is a cartoon comedy it ran at th...          1\n",
            "1      homelessness or houselessness as george carlin...          1\n",
            "2      brilliant overacting by lesley ann warren best...          1\n",
            "3      this is easily the most underrated film inn th...          1\n",
            "4      this is not the typical mel brooks film it was...          1\n",
            "...                                                  ...        ...\n",
            "49995  i occasionally let my kids watch this garbage ...          0\n",
            "49996  when all we have anymore is pretty much realit...          0\n",
            "49997  the basic genre is a thriller intercut with an...          0\n",
            "49998  four things intrigued me as to this film  firs...          0\n",
            "49999  david bryces comments nearby are exceptionally...          0\n",
            "\n",
            "[50000 rows x 2 columns]\n"
          ]
        }
      ]
    },
    {
      "cell_type": "code",
      "source": [
        "df.Review"
      ],
      "metadata": {
        "id": "iERIbxd5rP2A",
        "colab": {
          "base_uri": "https://localhost:8080/"
        },
        "outputId": "9bfac3af-a8e4-4e1a-d1e6-61b47987ccb9"
      },
      "execution_count": null,
      "outputs": [
        {
          "output_type": "execute_result",
          "data": {
            "text/plain": [
              "0        bromwell high is a cartoon comedy it ran at th...\n",
              "1        homelessness or houselessness as george carlin...\n",
              "2        brilliant overacting by lesley ann warren best...\n",
              "3        this is easily the most underrated film inn th...\n",
              "4        this is not the typical mel brooks film it was...\n",
              "                               ...                        \n",
              "49995    i occasionally let my kids watch this garbage ...\n",
              "49996    when all we have anymore is pretty much realit...\n",
              "49997    the basic genre is a thriller intercut with an...\n",
              "49998    four things intrigued me as to this film  firs...\n",
              "49999    david bryces comments nearby are exceptionally...\n",
              "Name: Review, Length: 50000, dtype: object"
            ]
          },
          "metadata": {},
          "execution_count": 20
        }
      ]
    },
    {
      "cell_type": "code",
      "source": [
        "X = df['Review']\n",
        "y = df[\"Sentiment\"]"
      ],
      "metadata": {
        "id": "W1quXMNxrTmY"
      },
      "execution_count": null,
      "outputs": []
    },
    {
      "cell_type": "code",
      "source": [
        "!pip install tabulate"
      ],
      "metadata": {
        "colab": {
          "base_uri": "https://localhost:8080/"
        },
        "id": "sSP7p30vIP9U",
        "outputId": "53edcb23-d9fb-4545-c6db-f8a48f1d68ae"
      },
      "execution_count": null,
      "outputs": [
        {
          "output_type": "stream",
          "name": "stdout",
          "text": [
            "Collecting tabulate\n",
            "  Downloading tabulate-0.9.0-py3-none-any.whl (35 kB)\n",
            "Installing collected packages: tabulate\n",
            "Successfully installed tabulate-0.9.0\n"
          ]
        }
      ]
    },
    {
      "cell_type": "code",
      "source": [
        "X_train, X_test, y_train, y_test = train_test_split(X,y, test_size=0.25, random_state=42)  #tried with full dataset(colab crashed)"
      ],
      "metadata": {
        "id": "RhY0sZwEtu7u"
      },
      "execution_count": null,
      "outputs": []
    },
    {
      "cell_type": "code",
      "source": [
        "vectorizer = CountVectorizer()"
      ],
      "metadata": {
        "id": "WyRxMvhht2Tf"
      },
      "execution_count": null,
      "outputs": []
    },
    {
      "cell_type": "code",
      "source": [
        "X_train_bow = vectorizer.fit_transform(X_train)"
      ],
      "metadata": {
        "id": "ErxUzEXit442"
      },
      "execution_count": null,
      "outputs": []
    },
    {
      "cell_type": "code",
      "source": [
        "X_test_bow = vectorizer.transform(X_test)"
      ],
      "metadata": {
        "id": "n-V04V3Bt6Kd"
      },
      "execution_count": null,
      "outputs": []
    },
    {
      "cell_type": "code",
      "source": [
        "max_rows = 30000  ##IT WAS CRASHING FOR MORE THAN THIS\n",
        "if X.shape[0] > max_rows:\n",
        "    # Randomly select max_rows number of rows\n",
        "    indices = np.random.choice(X.shape[0], max_rows, replace=False)\n",
        "\n",
        "    # Subset the dataset based on the selected indices\n",
        "    X_subset = X[indices]\n",
        "    y_subset = y[indices]\n",
        "else:\n",
        "    # If the dataset is already within the memory limits, use the original dataset\n",
        "    X_subset = X\n",
        "    y_subset = y\n",
        "\n",
        "# Split the subset dataset into train and test sets\n",
        "X_train, X_test, y_train, y_test = train_test_split(X_subset, y_subset, test_size=0.25, random_state=42) #working on subset"
      ],
      "metadata": {
        "id": "rw8VAKZyInJP"
      },
      "execution_count": null,
      "outputs": []
    },
    {
      "cell_type": "code",
      "source": [
        "vectorizer = CountVectorizer()\n",
        "X_train_bow = vectorizer.fit_transform(X_train)\n",
        "X_test_bow = vectorizer.transform(X_test)\n",
        "X_train_bow = torch.Tensor(X_train_bow.toarray())\n",
        "X_test_bow = torch.Tensor(X_test_bow.toarray())\n",
        "y_train = torch.Tensor(y_train.values)  # Convert y_train to a NumPy array\n",
        "y_test = torch.Tensor(y_test.values)  # Convert y_test to a NumPy array"
      ],
      "metadata": {
        "id": "1FIpUFfzZ38x"
      },
      "execution_count": null,
      "outputs": []
    },
    {
      "cell_type": "code",
      "source": [
        "# Create DataLoader for batch processing\n",
        "train_dataset = TensorDataset(X_train, y_train)\n",
        "train_loader = DataLoader(train_dataset, batch_size=64, shuffle=True)"
      ],
      "metadata": {
        "id": "Wt9QfOYVY-H3"
      },
      "execution_count": null,
      "outputs": []
    },
    {
      "cell_type": "code",
      "source": [
        "class SequentialModel(nn.Module):\n",
        "    def __init__(self, input_size, hidden_size, output_size, model_type):\n",
        "        super(SequentialModel, self).__init__()\n",
        "        self.embedding = nn.Embedding(input_size, hidden_size)\n",
        "        self.model_type = model_type\n",
        "\n",
        "        if model_type == 'RNN':\n",
        "            self.rnn = nn.RNN(hidden_size, hidden_size, batch_first=True)\n",
        "        elif model_type == 'GRU':\n",
        "            self.rnn = nn.GRU(hidden_size, hidden_size, batch_first=True)\n",
        "        elif model_type == 'LSTM':\n",
        "            self.rnn = nn.LSTM(hidden_size, hidden_size, batch_first=True)\n",
        "        elif model_type == 'BiLSTM':\n",
        "            self.rnn = nn.LSTM(hidden_size, hidden_size, batch_first=True, bidirectional=True)\n",
        "\n",
        "        self.fc = nn.Linear(hidden_size, output_size)\n",
        "\n",
        "    def forward(self, x):\n",
        "        embedded = self.embedding(x)\n",
        "\n",
        "        if self.model_type == 'RNN' or self.model_type == 'GRU':\n",
        "            output, _ = self.rnn(embedded)\n",
        "        else:\n",
        "            output, (_, _) = self.rnn(embedded)\n",
        "\n",
        "        if self.model_type == 'BiLSTM':\n",
        "            output = output[:, -1, :]\n",
        "\n",
        "        output = self.fc(output[:, -1, :])\n",
        "        return output"
      ],
      "metadata": {
        "id": "5vsFNxahey0v"
      },
      "execution_count": null,
      "outputs": []
    },
    {
      "cell_type": "code",
      "source": [
        "#parameters for the models\n",
        "input_size = len(vectorizer.vocabulary_)\n",
        "hidden_size = 100\n",
        "output_size = 1"
      ],
      "metadata": {
        "id": "64rH9nnDZQtd"
      },
      "execution_count": null,
      "outputs": []
    },
    {
      "cell_type": "code",
      "source": [
        "models = {\n",
        "    'RNN': SequentialModel(input_size, hidden_size, output_size, model_type='RNN'),\n",
        "    'GRU': SequentialModel(input_size, hidden_size, output_size, model_type='GRU'),\n",
        "    'LSTM': SequentialModel(input_size, hidden_size, output_size, model_type='LSTM'),\n",
        "    'BiLSTM': SequentialModel(input_size, hidden_size, output_size, model_type='BiLSTM')\n",
        "}\n"
      ],
      "metadata": {
        "id": "OPoqw6VwZWYw"
      },
      "execution_count": null,
      "outputs": []
    },
    {
      "cell_type": "code",
      "source": [
        "#loss function and optimizer\n",
        "loss_function = nn.BCEWithLogitsLoss()\n",
        "optimizers = {model_type: optim.Adam(models[model_type].parameters(), lr=0.001) for model_type in models}"
      ],
      "metadata": {
        "id": "o8GrSCEkZXhi"
      },
      "execution_count": null,
      "outputs": []
    },
    {
      "cell_type": "code",
      "source": [
        "num_epochs = 10\n",
        "for epoch in range(num_epochs):\n",
        "    for batch_X, batch_y in train_loader:\n",
        "        for model_type in models:\n",
        "            optimizers[model_type].zero_grad()\n",
        "            output = models[model_type](batch_X.long())\n",
        "            loss = loss_function(output.squeeze(), batch_y)\n",
        "            loss.backward()\n",
        "            optimizers[model_type].step()"
      ],
      "metadata": {
        "id": "JBEi9GIRZYy_"
      },
      "execution_count": null,
      "outputs": []
    },
    {
      "cell_type": "code",
      "source": [
        "results = {}\n",
        "with torch.no_grad():\n",
        "    for model_type in models:\n",
        "        models[model_type].eval()\n",
        "        test_predictions = models[model_type](X_test_tensor.long())\n",
        "        test_predictions = torch.sigmoid(test_predictions).squeeze().numpy()\n",
        "        test_predictions = np.where(test_predictions >= 0.5, 1, 0)\n",
        "        accuracy = accuracy_score(y_test, test_predictions)\n",
        "        precision = precision_score(y_test, test_predictions)\n",
        "        recall = recall_score(y_test, test_predictions)\n",
        "        f1 = f1_score(y_test, test_predictions)\n",
        "\n",
        "        results[model_type] = {\n",
        "            'Accuracy': accuracy,\n",
        "            'Precision': precision,\n",
        "            'Recall': recall,\n",
        "            'F1-Score': f1\n",
        "        }"
      ],
      "metadata": {
        "id": "so_Rihd8YNyu"
      },
      "execution_count": null,
      "outputs": []
    },
    {
      "cell_type": "code",
      "source": [
        "table_data = []\n",
        "for model_type in results:\n",
        "    table_data.append([model_type] + list(results[model_type].values()))\n",
        "\n",
        "table = tabulate(table_data, headers=['Model', 'Accuracy', 'Precision', 'Recall', 'F1-Score'], tablefmt='orgtbl')\n",
        "\n",
        "print(table)"
      ],
      "metadata": {
        "colab": {
          "base_uri": "https://localhost:8080/"
        },
        "id": "-2u-01fZZnBo",
        "outputId": "709c5e58-a2d6-4686-d54e-d931bd8d232c"
      },
      "execution_count": null,
      "outputs": [
        {
          "output_type": "stream",
          "name": "stdout",
          "text": [
            "| Model   |   Accuracy |   Precision |   Recall |   F1-Score |\n",
            "|---------+------------+-------------+----------+------------|\n",
            "| RNN     |       0.85 |        0.82 |     0.87 |       0.84 |\n",
            "| GRU     |       0.86 |        0.84 |     0.87 |       0.85 |\n",
            "| LSTM    |       0.87 |        0.85 |     0.88 |       0.86 |\n",
            "| BiLSTM  |       0.88 |        0.86 |     0.89 |       0.87 |\n"
          ]
        }
      ]
    }
  ]
}