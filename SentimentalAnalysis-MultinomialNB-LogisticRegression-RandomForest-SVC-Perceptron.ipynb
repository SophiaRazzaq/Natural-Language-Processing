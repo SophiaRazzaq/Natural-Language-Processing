{
  "nbformat": 4,
  "nbformat_minor": 0,
  "metadata": {
    "colab": {
      "provenance": []
    },
    "kernelspec": {
      "name": "python3",
      "display_name": "Python 3"
    },
    "language_info": {
      "name": "python"
    }
  },
  "cells": [
    {
      "cell_type": "markdown",
      "source": [
        "#IMPORTING LIBS"
      ],
      "metadata": {
        "id": "S0vPgtQrdPK8"
      }
    },
    {
      "cell_type": "code",
      "execution_count": null,
      "metadata": {
        "id": "rseBUYJMOlR9"
      },
      "outputs": [],
      "source": [
        "from sklearn.feature_extraction.text import CountVectorizer, TfidfVectorizer\n",
        "from sklearn.model_selection import train_test_split\n",
        "from sklearn.metrics import accuracy_score, precision_score, recall_score, f1_score\n",
        "from sklearn.naive_bayes import MultinomialNB\n",
        "from sklearn.linear_model import LogisticRegression\n",
        "from sklearn.ensemble import RandomForestClassifier\n",
        "from sklearn.svm import SVC\n",
        "from sklearn.linear_model import Perceptron\n",
        "from sklearn.preprocessing import label_binarize"
      ]
    },
    {
      "cell_type": "markdown",
      "source": [
        "#READING DATASET"
      ],
      "metadata": {
        "id": "eb4lkid-dT7F"
      }
    },
    {
      "cell_type": "code",
      "source": [
        "import pandas as pd\n",
        "file = 'dataset.csv'\n",
        "data = pd.read_csv(file, delimiter=',', encoding='latin1')\n",
        "data = data.iloc[:, :-1]\n",
        "\n",
        "reviews = data['text'].tolist()\n",
        "labels = data['sentiment'].tolist()"
      ],
      "metadata": {
        "id": "AUBh64apOpWG"
      },
      "execution_count": null,
      "outputs": []
    },
    {
      "cell_type": "code",
      "source": [
        "print(data.columns)"
      ],
      "metadata": {
        "colab": {
          "base_uri": "https://localhost:8080/"
        },
        "id": "SFxTsbNGaBDP",
        "outputId": "9379f603-03c7-444e-b85e-661bd9e0c44d"
      },
      "execution_count": null,
      "outputs": [
        {
          "output_type": "stream",
          "name": "stdout",
          "text": [
            "Index(['id', 'sentiment', 'date', 'text', 'Unnamed: 4'], dtype='object')\n"
          ]
        }
      ]
    },
    {
      "cell_type": "code",
      "source": [
        "data"
      ],
      "metadata": {
        "colab": {
          "base_uri": "https://localhost:8080/",
          "height": 423
        },
        "id": "fIDvDCqTaDRr",
        "outputId": "e3d36114-a86d-41f4-f314-b68093af43d6"
      },
      "execution_count": null,
      "outputs": [
        {
          "output_type": "execute_result",
          "data": {
            "text/plain": [
              "             id     sentiment                            date  \\\n",
              "0     623495523             1  Mon Dec 01 20:46:01 +0000 2014   \n",
              "1     623495527             1  Mon Dec 01 21:09:50 +0000 2014   \n",
              "2     623495529             1  Mon Dec 01 21:35:14 +0000 2014   \n",
              "3     623495536             1  Mon Dec 01 23:55:55 +0000 2014   \n",
              "4     623495537             1  Tue Dec 02 00:06:05 +0000 2014   \n",
              "...         ...           ...                             ...   \n",
              "3881  623499108  not_relevant  Tue Dec 09 08:30:04 +0000 2014   \n",
              "3882  623499141  not_relevant  Tue Dec 09 11:52:37 +0000 2014   \n",
              "3883  623499180  not_relevant  Tue Dec 09 14:13:17 +0000 2014   \n",
              "3884  623499194  not_relevant  Tue Dec 09 14:39:59 +0000 2014   \n",
              "3885  623499409  not_relevant  Tue Dec 09 21:27:06 +0000 2014   \n",
              "\n",
              "                                                   text  Unnamed: 4  \n",
              "0     WTF MY BATTERY WAS 31% ONE SECOND AGO AND NOW ...         NaN  \n",
              "1     @apple Contact sync between Yosemite and iOS8 ...         NaN  \n",
              "2     WARNING IF YOU BUY AN IPHONE 5S UNLOCKED FROM ...         NaN  \n",
              "3     @Apple, For the love of GAWD, CENTER the '1'on...         NaN  \n",
              "4     i get the storage almost full notification lit...         NaN  \n",
              "...                                                 ...         ...  \n",
              "3881  #AAPL:Accel Partners Leads $50M Series C Fundi...         NaN  \n",
              "3882  Counting down the minutes! Interest in full ti...         NaN  \n",
              "3883        @JustinPulitzer Any comment on #aapl today?         NaN  \n",
              "3884  Have been brave and taken out an #AAPL CFD as ...         NaN  \n",
              "3885  Tim Cook Met With Jesse Jackson for 'Positive ...         NaN  \n",
              "\n",
              "[3886 rows x 5 columns]"
            ],
            "text/html": [
              "\n",
              "  <div id=\"df-155d8318-f01d-4758-9f57-734c9546ecfe\" class=\"colab-df-container\">\n",
              "    <div>\n",
              "<style scoped>\n",
              "    .dataframe tbody tr th:only-of-type {\n",
              "        vertical-align: middle;\n",
              "    }\n",
              "\n",
              "    .dataframe tbody tr th {\n",
              "        vertical-align: top;\n",
              "    }\n",
              "\n",
              "    .dataframe thead th {\n",
              "        text-align: right;\n",
              "    }\n",
              "</style>\n",
              "<table border=\"1\" class=\"dataframe\">\n",
              "  <thead>\n",
              "    <tr style=\"text-align: right;\">\n",
              "      <th></th>\n",
              "      <th>id</th>\n",
              "      <th>sentiment</th>\n",
              "      <th>date</th>\n",
              "      <th>text</th>\n",
              "      <th>Unnamed: 4</th>\n",
              "    </tr>\n",
              "  </thead>\n",
              "  <tbody>\n",
              "    <tr>\n",
              "      <th>0</th>\n",
              "      <td>623495523</td>\n",
              "      <td>1</td>\n",
              "      <td>Mon Dec 01 20:46:01 +0000 2014</td>\n",
              "      <td>WTF MY BATTERY WAS 31% ONE SECOND AGO AND NOW ...</td>\n",
              "      <td>NaN</td>\n",
              "    </tr>\n",
              "    <tr>\n",
              "      <th>1</th>\n",
              "      <td>623495527</td>\n",
              "      <td>1</td>\n",
              "      <td>Mon Dec 01 21:09:50 +0000 2014</td>\n",
              "      <td>@apple Contact sync between Yosemite and iOS8 ...</td>\n",
              "      <td>NaN</td>\n",
              "    </tr>\n",
              "    <tr>\n",
              "      <th>2</th>\n",
              "      <td>623495529</td>\n",
              "      <td>1</td>\n",
              "      <td>Mon Dec 01 21:35:14 +0000 2014</td>\n",
              "      <td>WARNING IF YOU BUY AN IPHONE 5S UNLOCKED FROM ...</td>\n",
              "      <td>NaN</td>\n",
              "    </tr>\n",
              "    <tr>\n",
              "      <th>3</th>\n",
              "      <td>623495536</td>\n",
              "      <td>1</td>\n",
              "      <td>Mon Dec 01 23:55:55 +0000 2014</td>\n",
              "      <td>@Apple, For the love of GAWD, CENTER the '1'on...</td>\n",
              "      <td>NaN</td>\n",
              "    </tr>\n",
              "    <tr>\n",
              "      <th>4</th>\n",
              "      <td>623495537</td>\n",
              "      <td>1</td>\n",
              "      <td>Tue Dec 02 00:06:05 +0000 2014</td>\n",
              "      <td>i get the storage almost full notification lit...</td>\n",
              "      <td>NaN</td>\n",
              "    </tr>\n",
              "    <tr>\n",
              "      <th>...</th>\n",
              "      <td>...</td>\n",
              "      <td>...</td>\n",
              "      <td>...</td>\n",
              "      <td>...</td>\n",
              "      <td>...</td>\n",
              "    </tr>\n",
              "    <tr>\n",
              "      <th>3881</th>\n",
              "      <td>623499108</td>\n",
              "      <td>not_relevant</td>\n",
              "      <td>Tue Dec 09 08:30:04 +0000 2014</td>\n",
              "      <td>#AAPL:Accel Partners Leads $50M Series C Fundi...</td>\n",
              "      <td>NaN</td>\n",
              "    </tr>\n",
              "    <tr>\n",
              "      <th>3882</th>\n",
              "      <td>623499141</td>\n",
              "      <td>not_relevant</td>\n",
              "      <td>Tue Dec 09 11:52:37 +0000 2014</td>\n",
              "      <td>Counting down the minutes! Interest in full ti...</td>\n",
              "      <td>NaN</td>\n",
              "    </tr>\n",
              "    <tr>\n",
              "      <th>3883</th>\n",
              "      <td>623499180</td>\n",
              "      <td>not_relevant</td>\n",
              "      <td>Tue Dec 09 14:13:17 +0000 2014</td>\n",
              "      <td>@JustinPulitzer Any comment on #aapl today?</td>\n",
              "      <td>NaN</td>\n",
              "    </tr>\n",
              "    <tr>\n",
              "      <th>3884</th>\n",
              "      <td>623499194</td>\n",
              "      <td>not_relevant</td>\n",
              "      <td>Tue Dec 09 14:39:59 +0000 2014</td>\n",
              "      <td>Have been brave and taken out an #AAPL CFD as ...</td>\n",
              "      <td>NaN</td>\n",
              "    </tr>\n",
              "    <tr>\n",
              "      <th>3885</th>\n",
              "      <td>623499409</td>\n",
              "      <td>not_relevant</td>\n",
              "      <td>Tue Dec 09 21:27:06 +0000 2014</td>\n",
              "      <td>Tim Cook Met With Jesse Jackson for 'Positive ...</td>\n",
              "      <td>NaN</td>\n",
              "    </tr>\n",
              "  </tbody>\n",
              "</table>\n",
              "<p>3886 rows × 5 columns</p>\n",
              "</div>\n",
              "    <div class=\"colab-df-buttons\">\n",
              "\n",
              "  <div class=\"colab-df-container\">\n",
              "    <button class=\"colab-df-convert\" onclick=\"convertToInteractive('df-155d8318-f01d-4758-9f57-734c9546ecfe')\"\n",
              "            title=\"Convert this dataframe to an interactive table.\"\n",
              "            style=\"display:none;\">\n",
              "\n",
              "  <svg xmlns=\"http://www.w3.org/2000/svg\" height=\"24px\" viewBox=\"0 -960 960 960\">\n",
              "    <path d=\"M120-120v-720h720v720H120Zm60-500h600v-160H180v160Zm220 220h160v-160H400v160Zm0 220h160v-160H400v160ZM180-400h160v-160H180v160Zm440 0h160v-160H620v160ZM180-180h160v-160H180v160Zm440 0h160v-160H620v160Z\"/>\n",
              "  </svg>\n",
              "    </button>\n",
              "\n",
              "  <style>\n",
              "    .colab-df-container {\n",
              "      display:flex;\n",
              "      gap: 12px;\n",
              "    }\n",
              "\n",
              "    .colab-df-convert {\n",
              "      background-color: #E8F0FE;\n",
              "      border: none;\n",
              "      border-radius: 50%;\n",
              "      cursor: pointer;\n",
              "      display: none;\n",
              "      fill: #1967D2;\n",
              "      height: 32px;\n",
              "      padding: 0 0 0 0;\n",
              "      width: 32px;\n",
              "    }\n",
              "\n",
              "    .colab-df-convert:hover {\n",
              "      background-color: #E2EBFA;\n",
              "      box-shadow: 0px 1px 2px rgba(60, 64, 67, 0.3), 0px 1px 3px 1px rgba(60, 64, 67, 0.15);\n",
              "      fill: #174EA6;\n",
              "    }\n",
              "\n",
              "    .colab-df-buttons div {\n",
              "      margin-bottom: 4px;\n",
              "    }\n",
              "\n",
              "    [theme=dark] .colab-df-convert {\n",
              "      background-color: #3B4455;\n",
              "      fill: #D2E3FC;\n",
              "    }\n",
              "\n",
              "    [theme=dark] .colab-df-convert:hover {\n",
              "      background-color: #434B5C;\n",
              "      box-shadow: 0px 1px 3px 1px rgba(0, 0, 0, 0.15);\n",
              "      filter: drop-shadow(0px 1px 2px rgba(0, 0, 0, 0.3));\n",
              "      fill: #FFFFFF;\n",
              "    }\n",
              "  </style>\n",
              "\n",
              "    <script>\n",
              "      const buttonEl =\n",
              "        document.querySelector('#df-155d8318-f01d-4758-9f57-734c9546ecfe button.colab-df-convert');\n",
              "      buttonEl.style.display =\n",
              "        google.colab.kernel.accessAllowed ? 'block' : 'none';\n",
              "\n",
              "      async function convertToInteractive(key) {\n",
              "        const element = document.querySelector('#df-155d8318-f01d-4758-9f57-734c9546ecfe');\n",
              "        const dataTable =\n",
              "          await google.colab.kernel.invokeFunction('convertToInteractive',\n",
              "                                                    [key], {});\n",
              "        if (!dataTable) return;\n",
              "\n",
              "        const docLinkHtml = 'Like what you see? Visit the ' +\n",
              "          '<a target=\"_blank\" href=https://colab.research.google.com/notebooks/data_table.ipynb>data table notebook</a>'\n",
              "          + ' to learn more about interactive tables.';\n",
              "        element.innerHTML = '';\n",
              "        dataTable['output_type'] = 'display_data';\n",
              "        await google.colab.output.renderOutput(dataTable, element);\n",
              "        const docLink = document.createElement('div');\n",
              "        docLink.innerHTML = docLinkHtml;\n",
              "        element.appendChild(docLink);\n",
              "      }\n",
              "    </script>\n",
              "  </div>\n",
              "\n",
              "\n",
              "<div id=\"df-60dec7e3-9e64-45c9-85ee-6de3bb6126af\">\n",
              "  <button class=\"colab-df-quickchart\" onclick=\"quickchart('df-60dec7e3-9e64-45c9-85ee-6de3bb6126af')\"\n",
              "            title=\"Suggest charts\"\n",
              "            style=\"display:none;\">\n",
              "\n",
              "<svg xmlns=\"http://www.w3.org/2000/svg\" height=\"24px\"viewBox=\"0 0 24 24\"\n",
              "     width=\"24px\">\n",
              "    <g>\n",
              "        <path d=\"M19 3H5c-1.1 0-2 .9-2 2v14c0 1.1.9 2 2 2h14c1.1 0 2-.9 2-2V5c0-1.1-.9-2-2-2zM9 17H7v-7h2v7zm4 0h-2V7h2v10zm4 0h-2v-4h2v4z\"/>\n",
              "    </g>\n",
              "</svg>\n",
              "  </button>\n",
              "\n",
              "<style>\n",
              "  .colab-df-quickchart {\n",
              "      --bg-color: #E8F0FE;\n",
              "      --fill-color: #1967D2;\n",
              "      --hover-bg-color: #E2EBFA;\n",
              "      --hover-fill-color: #174EA6;\n",
              "      --disabled-fill-color: #AAA;\n",
              "      --disabled-bg-color: #DDD;\n",
              "  }\n",
              "\n",
              "  [theme=dark] .colab-df-quickchart {\n",
              "      --bg-color: #3B4455;\n",
              "      --fill-color: #D2E3FC;\n",
              "      --hover-bg-color: #434B5C;\n",
              "      --hover-fill-color: #FFFFFF;\n",
              "      --disabled-bg-color: #3B4455;\n",
              "      --disabled-fill-color: #666;\n",
              "  }\n",
              "\n",
              "  .colab-df-quickchart {\n",
              "    background-color: var(--bg-color);\n",
              "    border: none;\n",
              "    border-radius: 50%;\n",
              "    cursor: pointer;\n",
              "    display: none;\n",
              "    fill: var(--fill-color);\n",
              "    height: 32px;\n",
              "    padding: 0;\n",
              "    width: 32px;\n",
              "  }\n",
              "\n",
              "  .colab-df-quickchart:hover {\n",
              "    background-color: var(--hover-bg-color);\n",
              "    box-shadow: 0 1px 2px rgba(60, 64, 67, 0.3), 0 1px 3px 1px rgba(60, 64, 67, 0.15);\n",
              "    fill: var(--button-hover-fill-color);\n",
              "  }\n",
              "\n",
              "  .colab-df-quickchart-complete:disabled,\n",
              "  .colab-df-quickchart-complete:disabled:hover {\n",
              "    background-color: var(--disabled-bg-color);\n",
              "    fill: var(--disabled-fill-color);\n",
              "    box-shadow: none;\n",
              "  }\n",
              "\n",
              "  .colab-df-spinner {\n",
              "    border: 2px solid var(--fill-color);\n",
              "    border-color: transparent;\n",
              "    border-bottom-color: var(--fill-color);\n",
              "    animation:\n",
              "      spin 1s steps(1) infinite;\n",
              "  }\n",
              "\n",
              "  @keyframes spin {\n",
              "    0% {\n",
              "      border-color: transparent;\n",
              "      border-bottom-color: var(--fill-color);\n",
              "      border-left-color: var(--fill-color);\n",
              "    }\n",
              "    20% {\n",
              "      border-color: transparent;\n",
              "      border-left-color: var(--fill-color);\n",
              "      border-top-color: var(--fill-color);\n",
              "    }\n",
              "    30% {\n",
              "      border-color: transparent;\n",
              "      border-left-color: var(--fill-color);\n",
              "      border-top-color: var(--fill-color);\n",
              "      border-right-color: var(--fill-color);\n",
              "    }\n",
              "    40% {\n",
              "      border-color: transparent;\n",
              "      border-right-color: var(--fill-color);\n",
              "      border-top-color: var(--fill-color);\n",
              "    }\n",
              "    60% {\n",
              "      border-color: transparent;\n",
              "      border-right-color: var(--fill-color);\n",
              "    }\n",
              "    80% {\n",
              "      border-color: transparent;\n",
              "      border-right-color: var(--fill-color);\n",
              "      border-bottom-color: var(--fill-color);\n",
              "    }\n",
              "    90% {\n",
              "      border-color: transparent;\n",
              "      border-bottom-color: var(--fill-color);\n",
              "    }\n",
              "  }\n",
              "</style>\n",
              "\n",
              "  <script>\n",
              "    async function quickchart(key) {\n",
              "      const quickchartButtonEl =\n",
              "        document.querySelector('#' + key + ' button');\n",
              "      quickchartButtonEl.disabled = true;  // To prevent multiple clicks.\n",
              "      quickchartButtonEl.classList.add('colab-df-spinner');\n",
              "      try {\n",
              "        const charts = await google.colab.kernel.invokeFunction(\n",
              "            'suggestCharts', [key], {});\n",
              "      } catch (error) {\n",
              "        console.error('Error during call to suggestCharts:', error);\n",
              "      }\n",
              "      quickchartButtonEl.classList.remove('colab-df-spinner');\n",
              "      quickchartButtonEl.classList.add('colab-df-quickchart-complete');\n",
              "    }\n",
              "    (() => {\n",
              "      let quickchartButtonEl =\n",
              "        document.querySelector('#df-60dec7e3-9e64-45c9-85ee-6de3bb6126af button');\n",
              "      quickchartButtonEl.style.display =\n",
              "        google.colab.kernel.accessAllowed ? 'block' : 'none';\n",
              "    })();\n",
              "  </script>\n",
              "</div>\n",
              "    </div>\n",
              "  </div>\n"
            ],
            "application/vnd.google.colaboratory.intrinsic+json": {
              "type": "dataframe",
              "variable_name": "data",
              "repr_error": "'str' object has no attribute 'empty'"
            }
          },
          "metadata": {},
          "execution_count": 5
        }
      ]
    },
    {
      "cell_type": "markdown",
      "source": [
        "#SPLITTING TRAIN AND TEST"
      ],
      "metadata": {
        "id": "F8SeZYWWdV9R"
      }
    },
    {
      "cell_type": "markdown",
      "source": [
        "splitting 1:2 ratio"
      ],
      "metadata": {
        "id": "uTc9BW8gmIfB"
      }
    },
    {
      "cell_type": "code",
      "source": [
        "X_train, X_test, y_train, y_test = train_test_split(reviews, labels, test_size=0.2, random_state=42)"
      ],
      "metadata": {
        "id": "Q6WNoL3HaQcw"
      },
      "execution_count": null,
      "outputs": []
    },
    {
      "cell_type": "markdown",
      "source": [
        "#USING VECTORIZATION"
      ],
      "metadata": {
        "id": "gMpw44MzdX14"
      }
    },
    {
      "cell_type": "markdown",
      "source": [
        "##BOW(RAW COUNT)"
      ],
      "metadata": {
        "id": "3H6Y7eBteF7U"
      }
    },
    {
      "cell_type": "code",
      "source": [
        "count = CountVectorizer()\n",
        "X_train_counts = count.fit_transform(X_train)\n",
        "X_test_counts = count.transform(X_test)"
      ],
      "metadata": {
        "id": "rySOdI2HeIqo"
      },
      "execution_count": null,
      "outputs": []
    },
    {
      "cell_type": "markdown",
      "source": [
        "#BOW ON TF-IDF"
      ],
      "metadata": {
        "id": "DT2BLNgOeMAm"
      }
    },
    {
      "cell_type": "code",
      "source": [
        "tfidf = TfidfVectorizer()\n",
        "X_train_tfidf = tfidf.fit_transform(X_train)\n",
        "X_test_tfidf = tfidf.transform(X_test)"
      ],
      "metadata": {
        "id": "8xRUagOsePLj"
      },
      "execution_count": null,
      "outputs": []
    },
    {
      "cell_type": "markdown",
      "source": [
        "#N-GRAM MODEL"
      ],
      "metadata": {
        "id": "e5IPYUzbePyb"
      }
    },
    {
      "cell_type": "code",
      "source": [
        "ngram = CountVectorizer(ngram_range=(1, 3))\n",
        "X_train_ngrams = ngram.fit_transform(X_train)\n",
        "X_test_ngrams = ngram.transform(X_test)"
      ],
      "metadata": {
        "id": "RHVlUdPeeSUL"
      },
      "execution_count": null,
      "outputs": []
    },
    {
      "cell_type": "markdown",
      "source": [
        "#EVALUATION MODELS"
      ],
      "metadata": {
        "id": "9x7-DPcCdhsl"
      }
    },
    {
      "cell_type": "code",
      "source": [
        "def evaluate(classifier, X_train, y_train, X_test, y_test):\n",
        "\n",
        "    classifier.fit(X_train, y_train)\n",
        "    y_pred = classifier.predict(X_test)\n",
        "    #acc= accuracy_score(y_pred,y_test)\n",
        "    accuracy = accuracy_score(y_test, y_pred)\n",
        "    precision_macro = precision_score(y_test, y_pred, average='macro')\n",
        "    precision_micro = precision_score(y_test, y_pred, average='micro')\n",
        "    recall_macro = recall_score(y_test, y_pred, average='macro')\n",
        "    recall_micro = recall_score(y_test, y_pred, average='micro')\n",
        "    f_score_macro = f1_score(y_test, y_pred, average='macro')\n",
        "    f_score_micro = f1_score(y_test, y_pred, average='micro')\n",
        "\n",
        "    return accuracy, precision_macro, precision_micro, recall_macro, recall_micro, f_score_macro, f_score_micro\n"
      ],
      "metadata": {
        "id": "xd1z7o0QaVM3"
      },
      "execution_count": null,
      "outputs": []
    },
    {
      "cell_type": "markdown",
      "source": [
        "#CLASSIFIERS"
      ],
      "metadata": {
        "id": "GGeoPE54djp9"
      }
    },
    {
      "cell_type": "code",
      "source": [
        "naive_bayes = MultinomialNB()\n",
        "logistic_regression = LogisticRegression()\n",
        "random_forest = RandomForestClassifier()\n",
        "svm = SVC()\n",
        "perceptron = Perceptron()"
      ],
      "metadata": {
        "id": "l6VMm5vpaWj8"
      },
      "execution_count": null,
      "outputs": []
    },
    {
      "cell_type": "markdown",
      "source": [
        "#EVALUATING THE CLASSIFIERS"
      ],
      "metadata": {
        "id": "lfAovZrvdljN"
      }
    },
    {
      "cell_type": "code",
      "source": [
        "classifiers = [naive_bayes, logistic_regression, random_forest, svm, perceptron]\n",
        "vectorizers = ['Bag of Words (Raw Counts)', 'Bag of Words (TfIDF)', 'N-gram']\n",
        "results = []"
      ],
      "metadata": {
        "id": "7FHrj3W_ltSN"
      },
      "execution_count": null,
      "outputs": []
    },
    {
      "cell_type": "code",
      "source": [
        "for classifier in classifiers:\n",
        "    for vectorizer in vectorizers:\n",
        "        if vectorizer == 'Bag of Words (Raw Counts)':\n",
        "            accuracy, precision_macro, precision_micro, recall_macro, recall_micro, f_score_macro, f_score_micro = evaluate(classifier, X_train_counts, y_train, X_test_counts, y_test)\n",
        "        if vectorizer == 'N-gram':\n",
        "            accuracy, precision_macro, precision_micro, recall_macro, recall_micro, f_score_macro, f_score_micro = evaluate(classifier, X_train_ngrams, y_train, X_test_ngrams, y_test)\n",
        "        elif vectorizer == 'Bag of Words (TfIDF)':\n",
        "            accuracy, precision_macro, precision_micro, recall_macro, recall_micro, f_score_macro, f_score_micro = evaluate(classifier, X_train_tfidf, y_train, X_test_tfidf, y_test)\n",
        "\n",
        "        results.append((classifier.__class__.__name__, vectorizer, accuracy, precision_macro, precision_micro, recall_macro, recall_micro, f_score_macro, f_score_micro))\n"
      ],
      "metadata": {
        "colab": {
          "base_uri": "https://localhost:8080/"
        },
        "id": "h_eGugveaYbM",
        "outputId": "2001dd88-b189-43bf-b060-e9c34105bf6e"
      },
      "execution_count": null,
      "outputs": [
        {
          "output_type": "stream",
          "name": "stderr",
          "text": [
            "/usr/local/lib/python3.10/dist-packages/sklearn/metrics/_classification.py:1344: UndefinedMetricWarning: Precision is ill-defined and being set to 0.0 in labels with no predicted samples. Use `zero_division` parameter to control this behavior.\n",
            "  _warn_prf(average, modifier, msg_start, len(result))\n",
            "/usr/local/lib/python3.10/dist-packages/sklearn/metrics/_classification.py:1344: UndefinedMetricWarning: Precision is ill-defined and being set to 0.0 in labels with no predicted samples. Use `zero_division` parameter to control this behavior.\n",
            "  _warn_prf(average, modifier, msg_start, len(result))\n",
            "/usr/local/lib/python3.10/dist-packages/sklearn/metrics/_classification.py:1344: UndefinedMetricWarning: Precision is ill-defined and being set to 0.0 in labels with no predicted samples. Use `zero_division` parameter to control this behavior.\n",
            "  _warn_prf(average, modifier, msg_start, len(result))\n",
            "/usr/local/lib/python3.10/dist-packages/sklearn/linear_model/_logistic.py:458: ConvergenceWarning: lbfgs failed to converge (status=1):\n",
            "STOP: TOTAL NO. of ITERATIONS REACHED LIMIT.\n",
            "\n",
            "Increase the number of iterations (max_iter) or scale the data as shown in:\n",
            "    https://scikit-learn.org/stable/modules/preprocessing.html\n",
            "Please also refer to the documentation for alternative solver options:\n",
            "    https://scikit-learn.org/stable/modules/linear_model.html#logistic-regression\n",
            "  n_iter_i = _check_optimize_result(\n",
            "/usr/local/lib/python3.10/dist-packages/sklearn/metrics/_classification.py:1344: UndefinedMetricWarning: Precision is ill-defined and being set to 0.0 in labels with no predicted samples. Use `zero_division` parameter to control this behavior.\n",
            "  _warn_prf(average, modifier, msg_start, len(result))\n",
            "/usr/local/lib/python3.10/dist-packages/sklearn/metrics/_classification.py:1344: UndefinedMetricWarning: Precision is ill-defined and being set to 0.0 in labels with no predicted samples. Use `zero_division` parameter to control this behavior.\n",
            "  _warn_prf(average, modifier, msg_start, len(result))\n",
            "/usr/local/lib/python3.10/dist-packages/sklearn/linear_model/_logistic.py:458: ConvergenceWarning: lbfgs failed to converge (status=1):\n",
            "STOP: TOTAL NO. of ITERATIONS REACHED LIMIT.\n",
            "\n",
            "Increase the number of iterations (max_iter) or scale the data as shown in:\n",
            "    https://scikit-learn.org/stable/modules/preprocessing.html\n",
            "Please also refer to the documentation for alternative solver options:\n",
            "    https://scikit-learn.org/stable/modules/linear_model.html#logistic-regression\n",
            "  n_iter_i = _check_optimize_result(\n",
            "/usr/local/lib/python3.10/dist-packages/sklearn/metrics/_classification.py:1344: UndefinedMetricWarning: Precision is ill-defined and being set to 0.0 in labels with no predicted samples. Use `zero_division` parameter to control this behavior.\n",
            "  _warn_prf(average, modifier, msg_start, len(result))\n",
            "/usr/local/lib/python3.10/dist-packages/sklearn/metrics/_classification.py:1344: UndefinedMetricWarning: Precision is ill-defined and being set to 0.0 in labels with no predicted samples. Use `zero_division` parameter to control this behavior.\n",
            "  _warn_prf(average, modifier, msg_start, len(result))\n",
            "/usr/local/lib/python3.10/dist-packages/sklearn/metrics/_classification.py:1344: UndefinedMetricWarning: Precision is ill-defined and being set to 0.0 in labels with no predicted samples. Use `zero_division` parameter to control this behavior.\n",
            "  _warn_prf(average, modifier, msg_start, len(result))\n",
            "/usr/local/lib/python3.10/dist-packages/sklearn/metrics/_classification.py:1344: UndefinedMetricWarning: Precision is ill-defined and being set to 0.0 in labels with no predicted samples. Use `zero_division` parameter to control this behavior.\n",
            "  _warn_prf(average, modifier, msg_start, len(result))\n",
            "/usr/local/lib/python3.10/dist-packages/sklearn/metrics/_classification.py:1344: UndefinedMetricWarning: Precision is ill-defined and being set to 0.0 in labels with no predicted samples. Use `zero_division` parameter to control this behavior.\n",
            "  _warn_prf(average, modifier, msg_start, len(result))\n",
            "/usr/local/lib/python3.10/dist-packages/sklearn/metrics/_classification.py:1344: UndefinedMetricWarning: Precision is ill-defined and being set to 0.0 in labels with no predicted samples. Use `zero_division` parameter to control this behavior.\n",
            "  _warn_prf(average, modifier, msg_start, len(result))\n",
            "/usr/local/lib/python3.10/dist-packages/sklearn/metrics/_classification.py:1344: UndefinedMetricWarning: Precision is ill-defined and being set to 0.0 in labels with no predicted samples. Use `zero_division` parameter to control this behavior.\n",
            "  _warn_prf(average, modifier, msg_start, len(result))\n"
          ]
        }
      ]
    },
    {
      "cell_type": "markdown",
      "source": [
        "#TABLE RESULTS"
      ],
      "metadata": {
        "id": "rmR8owWTdoke"
      }
    },
    {
      "cell_type": "code",
      "source": [
        "for result in results:\n",
        "  print(result)"
      ],
      "metadata": {
        "colab": {
          "base_uri": "https://localhost:8080/"
        },
        "id": "yOr9xGYzi-ae",
        "outputId": "6c5dbab8-927c-43aa-daf1-d260ebf45be8"
      },
      "execution_count": null,
      "outputs": [
        {
          "output_type": "stream",
          "name": "stdout",
          "text": [
            "('MultinomialNB', 'Bag of Words (Raw Counts)', 0.7262210796915167, 0.5255959256536805, 0.7262210796915167, 0.4296735276203334, 0.7262210796915167, 0.425849906444206, 0.7262210796915167)\n",
            "('MultinomialNB', 'Bag of Words (TfIDF)', 0.7519280205655527, 0.6324120221721697, 0.7519280205655527, 0.4230369806760474, 0.7519280205655527, 0.4225282163426493, 0.7519280205655527)\n",
            "('MultinomialNB', 'N-gram', 0.7429305912596401, 0.522883474656831, 0.7429305912596401, 0.43472698273219973, 0.7429305912596401, 0.4337447809419109, 0.7429305912596401)\n",
            "('LogisticRegression', 'Bag of Words (Raw Counts)', 0.7480719794344473, 0.5098811789002026, 0.7480719794344473, 0.4518672433592098, 0.7480719794344473, 0.46256840341085614, 0.7480719794344473)\n",
            "('LogisticRegression', 'Bag of Words (TfIDF)', 0.7403598971722365, 0.5448218637255522, 0.7403598971722365, 0.43482324363853614, 0.7403598971722365, 0.44473003294416213, 0.7403598971722365)\n",
            "('LogisticRegression', 'N-gram', 0.7390745501285347, 0.5335393700787402, 0.7390745501285347, 0.44028307980586817, 0.7390745501285347, 0.4516810261130582, 0.7390745501285347)\n",
            "('RandomForestClassifier', 'Bag of Words (Raw Counts)', 0.7416452442159382, 0.5671229996268012, 0.7416452442159382, 0.4354073557880689, 0.7416452442159382, 0.4455451278782232, 0.7416452442159384)\n",
            "('RandomForestClassifier', 'Bag of Words (TfIDF)', 0.7467866323907455, 0.5967044344064565, 0.7467866323907455, 0.43708040428610784, 0.7467866323907455, 0.4443541853597345, 0.7467866323907456)\n",
            "('RandomForestClassifier', 'N-gram', 0.7313624678663239, 0.5828488983264655, 0.7313624678663239, 0.41864656195807776, 0.7313624678663239, 0.42072156894851936, 0.7313624678663238)\n",
            "('SVC', 'Bag of Words (Raw Counts)', 0.7352185089974294, 0.5864325068870524, 0.7352185089974294, 0.41894746821692797, 0.7352185089974294, 0.42197019208722564, 0.7352185089974294)\n",
            "('SVC', 'Bag of Words (TfIDF)', 0.7506426735218509, 0.5879317111459968, 0.7506426735218509, 0.44022185592967183, 0.7506426735218509, 0.45123350296179904, 0.750642673521851)\n",
            "('SVC', 'N-gram', 0.718508997429306, 0.5765919811320754, 0.718508997429306, 0.40845114989350684, 0.718508997429306, 0.4117045082163384, 0.718508997429306)\n",
            "('Perceptron', 'Bag of Words (Raw Counts)', 0.7339331619537275, 0.5451991429227999, 0.7339331619537275, 0.46360117925858546, 0.7339331619537275, 0.48562301510949935, 0.7339331619537275)\n",
            "('Perceptron', 'Bag of Words (TfIDF)', 0.7005141388174807, 0.5063608419895216, 0.7005141388174807, 0.47320217416475896, 0.7005141388174807, 0.4801161717552021, 0.7005141388174807)\n",
            "('Perceptron', 'N-gram', 0.7287917737789203, 0.5241601016558242, 0.7287917737789203, 0.4316187495877996, 0.7287917737789203, 0.44461484834153286, 0.7287917737789203)\n"
          ]
        }
      ]
    },
    {
      "cell_type": "code",
      "source": [
        "print(\"Multiclass Classification Results:\")\n",
        "print(\"-----------------------------------------------------------------------------------------------------------------------------------------------------------------------------\")\n",
        "print(\"| Classifier            | Feature Extraction       | Accuracy | Precision (Macro) | Precision (Micro) | Recall (Macro) | Recall (Micro) | F-Score (Macro) | F-Score (Micro) |\")\n",
        "print(\"|-----------------------|--------------------------|----------|-------------------|-------------------|----------------|----------------|-----------------|-----------------|\")\n",
        "for result in results:\n",
        "    classifier, vectorizer, accuracy, precision_macro, precision_micro, recall_macro, recall_micro, f_score_macro, f_score_micro = result\n",
        "    print(f\"| {classifier:21} | {vectorizer:25} | {accuracy:8.4f} | {precision_macro:17.4f} | {precision_micro:17.4f} | {recall_macro:14.4f} | {recall_micro:14.4f} | {f_score_macro:15.4f} | {f_score_micro:15.4f} |\")\n",
        "print(\"------------------------------------------------------------------------------------------------------------------------------------------------------------------------------\")"
      ],
      "metadata": {
        "colab": {
          "base_uri": "https://localhost:8080/"
        },
        "id": "ur8TAK4ZaaCO",
        "outputId": "6a1bc3bd-7dab-40e6-cfeb-aaa66430cde3"
      },
      "execution_count": null,
      "outputs": [
        {
          "output_type": "stream",
          "name": "stdout",
          "text": [
            "Multiclass Classification Results:\n",
            "-----------------------------------------------------------------------------------------------------------------------------------------------------------------------------\n",
            "| Classifier            | Feature Extraction       | Accuracy | Precision (Macro) | Precision (Micro) | Recall (Macro) | Recall (Micro) | F-Score (Macro) | F-Score (Micro) |\n",
            "|-----------------------|--------------------------|----------|-------------------|-------------------|----------------|----------------|-----------------|-----------------|\n",
            "| MultinomialNB         | Bag of Words (Raw Counts) |   0.7262 |            0.5256 |            0.7262 |         0.4297 |         0.7262 |          0.4258 |          0.7262 |\n",
            "| MultinomialNB         | Bag of Words (TfIDF)      |   0.7519 |            0.6324 |            0.7519 |         0.4230 |         0.7519 |          0.4225 |          0.7519 |\n",
            "| MultinomialNB         | N-gram                    |   0.7429 |            0.5229 |            0.7429 |         0.4347 |         0.7429 |          0.4337 |          0.7429 |\n",
            "| LogisticRegression    | Bag of Words (Raw Counts) |   0.7481 |            0.5099 |            0.7481 |         0.4519 |         0.7481 |          0.4626 |          0.7481 |\n",
            "| LogisticRegression    | Bag of Words (TfIDF)      |   0.7404 |            0.5448 |            0.7404 |         0.4348 |         0.7404 |          0.4447 |          0.7404 |\n",
            "| LogisticRegression    | N-gram                    |   0.7391 |            0.5335 |            0.7391 |         0.4403 |         0.7391 |          0.4517 |          0.7391 |\n",
            "| RandomForestClassifier | Bag of Words (Raw Counts) |   0.7416 |            0.5671 |            0.7416 |         0.4354 |         0.7416 |          0.4455 |          0.7416 |\n",
            "| RandomForestClassifier | Bag of Words (TfIDF)      |   0.7468 |            0.5967 |            0.7468 |         0.4371 |         0.7468 |          0.4444 |          0.7468 |\n",
            "| RandomForestClassifier | N-gram                    |   0.7314 |            0.5828 |            0.7314 |         0.4186 |         0.7314 |          0.4207 |          0.7314 |\n",
            "| SVC                   | Bag of Words (Raw Counts) |   0.7352 |            0.5864 |            0.7352 |         0.4189 |         0.7352 |          0.4220 |          0.7352 |\n",
            "| SVC                   | Bag of Words (TfIDF)      |   0.7506 |            0.5879 |            0.7506 |         0.4402 |         0.7506 |          0.4512 |          0.7506 |\n",
            "| SVC                   | N-gram                    |   0.7185 |            0.5766 |            0.7185 |         0.4085 |         0.7185 |          0.4117 |          0.7185 |\n",
            "| Perceptron            | Bag of Words (Raw Counts) |   0.7339 |            0.5452 |            0.7339 |         0.4636 |         0.7339 |          0.4856 |          0.7339 |\n",
            "| Perceptron            | Bag of Words (TfIDF)      |   0.7005 |            0.5064 |            0.7005 |         0.4732 |         0.7005 |          0.4801 |          0.7005 |\n",
            "| Perceptron            | N-gram                    |   0.7288 |            0.5242 |            0.7288 |         0.4316 |         0.7288 |          0.4446 |          0.7288 |\n",
            "------------------------------------------------------------------------------------------------------------------------------------------------------------------------------\n"
          ]
        }
      ]
    },
    {
      "cell_type": "markdown",
      "source": [
        "#SUMMARY"
      ],
      "metadata": {
        "id": "iEXAMJrlhUCt"
      }
    },
    {
      "cell_type": "markdown",
      "source": [
        "Classifiers having higher precision,accuracy and f_score values are working better than the rest on specific vectorization"
      ],
      "metadata": {
        "id": "ZSmgEsZ4hVer"
      }
    },
    {
      "cell_type": "markdown",
      "source": [
        "The major difference between micro and macro avergig is that micro treats the dataset as a whole, it treats the multi class as a single binary class classification on the other hand macro averging treats and gives evry class a chance, it evaluates the classifer on each class."
      ],
      "metadata": {
        "id": "Suv1JN-7jSOZ"
      }
    },
    {
      "cell_type": "markdown",
      "source": [
        " - Precision: how accurately the class got predicted true\n",
        " - Recall: how accurately the class got identified as true\n",
        " - F_score: Harmonic mean of both, higher value means good balance between precison and recall."
      ],
      "metadata": {
        "id": "yMcn4tUljrtC"
      }
    }
  ]
}